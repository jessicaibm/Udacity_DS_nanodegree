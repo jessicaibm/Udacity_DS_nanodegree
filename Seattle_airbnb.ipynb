{
 "cells": [
  {
   "cell_type": "markdown",
   "metadata": {},
   "source": [
    "# Seattle AirBnB dataset - exploration JH\n"
   ]
  },
  {
   "cell_type": "markdown",
   "metadata": {},
   "source": [
    "_ _ _"
   ]
  },
  {
   "cell_type": "markdown",
   "metadata": {},
   "source": [
    "## Table of Contents\n",
    "1. [Introduction](#introduction)\n",
    "2. [Goals for Notebook](#goals)\n",
    "3. [Imports, Data Loading and Read Data Description](#load_data) \n",
    "    1. [Initial Observations](#observations1)\n",
    "    2. [Demonstration of Business and Data understanding](#understanding)\n",
    "    3. [Possible Questions](#questions)\n",
    "    4. [Data Preparation](#prep)\n",
    "       1. [Clean listings df](#listings)\n",
    "       2. [Clean calendar df](#calendar)\n",
    "       3. [Clean reviews df](#reviews)\n",
    "       4. [Merge](#finalmerge)\n",
    "4. [Question 1: Is there any buzz word in airbnb listing 'name' that is associated with more bookings?](#question1)\n",
    "    1. [Insight 1](#insight1)\n",
    "5. [Question 2: Does having more pictures help increase bookings?](#question2)\n",
    "    1. [Insight 2](#insight2)\n",
    "6. [Question 3: Which neighborhood is most profitable?](#question3)\n",
    "    1. [Insight 3](#insight3)\n",
    "7. [Modeling](#modeling)\n",
    "    1. [Evaluating Results](#evaluating_results)\n",
    "9. [Next Steps](#next_steps)"
   ]
  },
  {
   "cell_type": "markdown",
   "metadata": {},
   "source": [
    "_ _ _"
   ]
  },
  {
   "cell_type": "markdown",
   "metadata": {},
   "source": [
    "## Introduction: <a name=\"introduction\"></a>\n",
    "\n",
    "**Context:**\n",
    "   \n",
    "   Since 2008, guests and hosts have used Airbnb to travel in a more unique, personalized way. As part of the Airbnb Inside initiative, this dataset describes the listing activity of homestays in Seattle, WA.\n",
    "\n",
    "**Content:**\n",
    "   \n",
    "   The following Airbnb activity is included in this Seattle dataset:\n",
    "\n",
    "Listings, including full descriptions and average review score\n",
    "Reviews, including unique id for each reviewer and detailed comments\n",
    "Calendar, including listing id and the price and availability for that day\n",
    "\n",
    "*Source: https://www.kaggle.com/airbnb/seattle/data"
   ]
  },
  {
   "cell_type": "markdown",
   "metadata": {},
   "source": [
    "_ _ _"
   ]
  },
  {
   "cell_type": "markdown",
   "metadata": {},
   "source": [
    "## Goals for notebook: <a name=\"goals\"></a>\n",
    "My goal will be to define and answer three questions inspired by this data. The goal of these questions shoudl be related to business or real-world applications.\n",
    "\n",
    "My goal is to follow the **CRISP-DM** method:\n",
    "> 1. Develop Business Understanding\n",
    "> 2. Develop Data Understanding\n",
    "> 3. Data Preparation\n",
    "> 4. Modeling\n",
    "> 5. Evaluating Results\n",
    "> 6. Deploying changes based on results"
   ]
  },
  {
   "cell_type": "markdown",
   "metadata": {},
   "source": [
    "_ _ _"
   ]
  },
  {
   "cell_type": "markdown",
   "metadata": {},
   "source": [
    "## Imports, Data Loading and Read Data Description <a name=\"load_data\"></a>"
   ]
  },
  {
   "cell_type": "code",
   "execution_count": 207,
   "metadata": {},
   "outputs": [],
   "source": [
    "import pandas as pd\n",
    "import seaborn as sns\n",
    "import matplotlib.pyplot as plt\n",
    "from sklearn.feature_selection import mutual_info_classif, f_classif, chi2, RFE\n",
    "\n",
    "%matplotlib inline\n",
    "\n",
    "#from sklearn.feature_selection import mutual_info_classif, f_classif, chi2, RFE\n",
    "from sklearn.model_selection import train_test_split\n",
    "from sklearn.metrics import r2_score, mean_squared_error, median_absolute_error\n",
    "from sklearn.ensemble import RandomForestRegressor\n",
    "from sklearn.preprocessing import MinMaxScaler"
   ]
  },
  {
   "cell_type": "code",
   "execution_count": 208,
   "metadata": {},
   "outputs": [],
   "source": [
    "listings = pd.read_csv('listings.csv')\n",
    "calendar = pd.read_csv('calendar.csv')\n",
    "reviews = pd.read_csv('reviews.csv')"
   ]
  },
  {
   "cell_type": "code",
   "execution_count": 209,
   "metadata": {},
   "outputs": [
    {
     "name": "stdout",
     "output_type": "stream",
     "text": [
      "Record: listings\n"
     ]
    },
    {
     "data": {
      "text/html": [
       "<div>\n",
       "<style scoped>\n",
       "    .dataframe tbody tr th:only-of-type {\n",
       "        vertical-align: middle;\n",
       "    }\n",
       "\n",
       "    .dataframe tbody tr th {\n",
       "        vertical-align: top;\n",
       "    }\n",
       "\n",
       "    .dataframe thead th {\n",
       "        text-align: right;\n",
       "    }\n",
       "</style>\n",
       "<table border=\"1\" class=\"dataframe\">\n",
       "  <thead>\n",
       "    <tr style=\"text-align: right;\">\n",
       "      <th></th>\n",
       "      <th>id</th>\n",
       "      <th>listing_url</th>\n",
       "      <th>scrape_id</th>\n",
       "      <th>last_scraped</th>\n",
       "      <th>name</th>\n",
       "      <th>summary</th>\n",
       "      <th>space</th>\n",
       "      <th>description</th>\n",
       "      <th>experiences_offered</th>\n",
       "      <th>neighborhood_overview</th>\n",
       "      <th>...</th>\n",
       "      <th>review_scores_value</th>\n",
       "      <th>requires_license</th>\n",
       "      <th>license</th>\n",
       "      <th>jurisdiction_names</th>\n",
       "      <th>instant_bookable</th>\n",
       "      <th>cancellation_policy</th>\n",
       "      <th>require_guest_profile_picture</th>\n",
       "      <th>require_guest_phone_verification</th>\n",
       "      <th>calculated_host_listings_count</th>\n",
       "      <th>reviews_per_month</th>\n",
       "    </tr>\n",
       "  </thead>\n",
       "  <tbody>\n",
       "    <tr>\n",
       "      <th>0</th>\n",
       "      <td>241032</td>\n",
       "      <td>https://www.airbnb.com/rooms/241032</td>\n",
       "      <td>20160104002432</td>\n",
       "      <td>2016-01-04</td>\n",
       "      <td>Stylish Queen Anne Apartment</td>\n",
       "      <td>NaN</td>\n",
       "      <td>Make your self at home in this charming one-be...</td>\n",
       "      <td>Make your self at home in this charming one-be...</td>\n",
       "      <td>none</td>\n",
       "      <td>NaN</td>\n",
       "      <td>...</td>\n",
       "      <td>10.0</td>\n",
       "      <td>f</td>\n",
       "      <td>NaN</td>\n",
       "      <td>WASHINGTON</td>\n",
       "      <td>f</td>\n",
       "      <td>moderate</td>\n",
       "      <td>f</td>\n",
       "      <td>f</td>\n",
       "      <td>2</td>\n",
       "      <td>4.07</td>\n",
       "    </tr>\n",
       "    <tr>\n",
       "      <th>1</th>\n",
       "      <td>953595</td>\n",
       "      <td>https://www.airbnb.com/rooms/953595</td>\n",
       "      <td>20160104002432</td>\n",
       "      <td>2016-01-04</td>\n",
       "      <td>Bright &amp; Airy Queen Anne Apartment</td>\n",
       "      <td>Chemically sensitive? We've removed the irrita...</td>\n",
       "      <td>Beautiful, hypoallergenic apartment in an extr...</td>\n",
       "      <td>Chemically sensitive? We've removed the irrita...</td>\n",
       "      <td>none</td>\n",
       "      <td>Queen Anne is a wonderful, truly functional vi...</td>\n",
       "      <td>...</td>\n",
       "      <td>10.0</td>\n",
       "      <td>f</td>\n",
       "      <td>NaN</td>\n",
       "      <td>WASHINGTON</td>\n",
       "      <td>f</td>\n",
       "      <td>strict</td>\n",
       "      <td>t</td>\n",
       "      <td>t</td>\n",
       "      <td>6</td>\n",
       "      <td>1.48</td>\n",
       "    </tr>\n",
       "    <tr>\n",
       "      <th>2</th>\n",
       "      <td>3308979</td>\n",
       "      <td>https://www.airbnb.com/rooms/3308979</td>\n",
       "      <td>20160104002432</td>\n",
       "      <td>2016-01-04</td>\n",
       "      <td>New Modern House-Amazing water view</td>\n",
       "      <td>New modern house built in 2013.  Spectacular s...</td>\n",
       "      <td>Our house is modern, light and fresh with a wa...</td>\n",
       "      <td>New modern house built in 2013.  Spectacular s...</td>\n",
       "      <td>none</td>\n",
       "      <td>Upper Queen Anne is a charming neighborhood fu...</td>\n",
       "      <td>...</td>\n",
       "      <td>10.0</td>\n",
       "      <td>f</td>\n",
       "      <td>NaN</td>\n",
       "      <td>WASHINGTON</td>\n",
       "      <td>f</td>\n",
       "      <td>strict</td>\n",
       "      <td>f</td>\n",
       "      <td>f</td>\n",
       "      <td>2</td>\n",
       "      <td>1.15</td>\n",
       "    </tr>\n",
       "  </tbody>\n",
       "</table>\n",
       "<p>3 rows × 92 columns</p>\n",
       "</div>"
      ],
      "text/plain": [
       "        id                           listing_url       scrape_id last_scraped  \\\n",
       "0   241032   https://www.airbnb.com/rooms/241032  20160104002432   2016-01-04   \n",
       "1   953595   https://www.airbnb.com/rooms/953595  20160104002432   2016-01-04   \n",
       "2  3308979  https://www.airbnb.com/rooms/3308979  20160104002432   2016-01-04   \n",
       "\n",
       "                                  name  \\\n",
       "0         Stylish Queen Anne Apartment   \n",
       "1   Bright & Airy Queen Anne Apartment   \n",
       "2  New Modern House-Amazing water view   \n",
       "\n",
       "                                             summary  \\\n",
       "0                                                NaN   \n",
       "1  Chemically sensitive? We've removed the irrita...   \n",
       "2  New modern house built in 2013.  Spectacular s...   \n",
       "\n",
       "                                               space  \\\n",
       "0  Make your self at home in this charming one-be...   \n",
       "1  Beautiful, hypoallergenic apartment in an extr...   \n",
       "2  Our house is modern, light and fresh with a wa...   \n",
       "\n",
       "                                         description experiences_offered  \\\n",
       "0  Make your self at home in this charming one-be...                none   \n",
       "1  Chemically sensitive? We've removed the irrita...                none   \n",
       "2  New modern house built in 2013.  Spectacular s...                none   \n",
       "\n",
       "                               neighborhood_overview  ... review_scores_value  \\\n",
       "0                                                NaN  ...                10.0   \n",
       "1  Queen Anne is a wonderful, truly functional vi...  ...                10.0   \n",
       "2  Upper Queen Anne is a charming neighborhood fu...  ...                10.0   \n",
       "\n",
       "  requires_license license jurisdiction_names instant_bookable  \\\n",
       "0                f     NaN         WASHINGTON                f   \n",
       "1                f     NaN         WASHINGTON                f   \n",
       "2                f     NaN         WASHINGTON                f   \n",
       "\n",
       "  cancellation_policy  require_guest_profile_picture  \\\n",
       "0            moderate                              f   \n",
       "1              strict                              t   \n",
       "2              strict                              f   \n",
       "\n",
       "  require_guest_phone_verification calculated_host_listings_count  \\\n",
       "0                                f                              2   \n",
       "1                                t                              6   \n",
       "2                                f                              2   \n",
       "\n",
       "  reviews_per_month  \n",
       "0              4.07  \n",
       "1              1.48  \n",
       "2              1.15  \n",
       "\n",
       "[3 rows x 92 columns]"
      ]
     },
     "metadata": {},
     "output_type": "display_data"
    },
    {
     "name": "stdout",
     "output_type": "stream",
     "text": [
      "(3818, 92)\n",
      "\n",
      "\n",
      "Record: calendar\n"
     ]
    },
    {
     "data": {
      "text/html": [
       "<div>\n",
       "<style scoped>\n",
       "    .dataframe tbody tr th:only-of-type {\n",
       "        vertical-align: middle;\n",
       "    }\n",
       "\n",
       "    .dataframe tbody tr th {\n",
       "        vertical-align: top;\n",
       "    }\n",
       "\n",
       "    .dataframe thead th {\n",
       "        text-align: right;\n",
       "    }\n",
       "</style>\n",
       "<table border=\"1\" class=\"dataframe\">\n",
       "  <thead>\n",
       "    <tr style=\"text-align: right;\">\n",
       "      <th></th>\n",
       "      <th>listing_id</th>\n",
       "      <th>date</th>\n",
       "      <th>available</th>\n",
       "      <th>price</th>\n",
       "    </tr>\n",
       "  </thead>\n",
       "  <tbody>\n",
       "    <tr>\n",
       "      <th>0</th>\n",
       "      <td>241032</td>\n",
       "      <td>2016-01-04</td>\n",
       "      <td>t</td>\n",
       "      <td>$85.00</td>\n",
       "    </tr>\n",
       "    <tr>\n",
       "      <th>1</th>\n",
       "      <td>241032</td>\n",
       "      <td>2016-01-05</td>\n",
       "      <td>t</td>\n",
       "      <td>$85.00</td>\n",
       "    </tr>\n",
       "    <tr>\n",
       "      <th>2</th>\n",
       "      <td>241032</td>\n",
       "      <td>2016-01-06</td>\n",
       "      <td>f</td>\n",
       "      <td>NaN</td>\n",
       "    </tr>\n",
       "  </tbody>\n",
       "</table>\n",
       "</div>"
      ],
      "text/plain": [
       "   listing_id        date available   price\n",
       "0      241032  2016-01-04         t  $85.00\n",
       "1      241032  2016-01-05         t  $85.00\n",
       "2      241032  2016-01-06         f     NaN"
      ]
     },
     "metadata": {},
     "output_type": "display_data"
    },
    {
     "name": "stdout",
     "output_type": "stream",
     "text": [
      "(1393570, 4)\n",
      "\n",
      "\n",
      "Record: reviews\n"
     ]
    },
    {
     "data": {
      "text/html": [
       "<div>\n",
       "<style scoped>\n",
       "    .dataframe tbody tr th:only-of-type {\n",
       "        vertical-align: middle;\n",
       "    }\n",
       "\n",
       "    .dataframe tbody tr th {\n",
       "        vertical-align: top;\n",
       "    }\n",
       "\n",
       "    .dataframe thead th {\n",
       "        text-align: right;\n",
       "    }\n",
       "</style>\n",
       "<table border=\"1\" class=\"dataframe\">\n",
       "  <thead>\n",
       "    <tr style=\"text-align: right;\">\n",
       "      <th></th>\n",
       "      <th>listing_id</th>\n",
       "      <th>id</th>\n",
       "      <th>date</th>\n",
       "      <th>reviewer_id</th>\n",
       "      <th>reviewer_name</th>\n",
       "      <th>comments</th>\n",
       "    </tr>\n",
       "  </thead>\n",
       "  <tbody>\n",
       "    <tr>\n",
       "      <th>0</th>\n",
       "      <td>7202016</td>\n",
       "      <td>38917982</td>\n",
       "      <td>2015-07-19</td>\n",
       "      <td>28943674</td>\n",
       "      <td>Bianca</td>\n",
       "      <td>Cute and cozy place. Perfect location to every...</td>\n",
       "    </tr>\n",
       "    <tr>\n",
       "      <th>1</th>\n",
       "      <td>7202016</td>\n",
       "      <td>39087409</td>\n",
       "      <td>2015-07-20</td>\n",
       "      <td>32440555</td>\n",
       "      <td>Frank</td>\n",
       "      <td>Kelly has a great room in a very central locat...</td>\n",
       "    </tr>\n",
       "    <tr>\n",
       "      <th>2</th>\n",
       "      <td>7202016</td>\n",
       "      <td>39820030</td>\n",
       "      <td>2015-07-26</td>\n",
       "      <td>37722850</td>\n",
       "      <td>Ian</td>\n",
       "      <td>Very spacious apartment, and in a great neighb...</td>\n",
       "    </tr>\n",
       "  </tbody>\n",
       "</table>\n",
       "</div>"
      ],
      "text/plain": [
       "   listing_id        id        date  reviewer_id reviewer_name  \\\n",
       "0     7202016  38917982  2015-07-19     28943674        Bianca   \n",
       "1     7202016  39087409  2015-07-20     32440555         Frank   \n",
       "2     7202016  39820030  2015-07-26     37722850           Ian   \n",
       "\n",
       "                                            comments  \n",
       "0  Cute and cozy place. Perfect location to every...  \n",
       "1  Kelly has a great room in a very central locat...  \n",
       "2  Very spacious apartment, and in a great neighb...  "
      ]
     },
     "metadata": {},
     "output_type": "display_data"
    },
    {
     "name": "stdout",
     "output_type": "stream",
     "text": [
      "(84849, 6)\n",
      "\n",
      "\n"
     ]
    }
   ],
   "source": [
    "df_lis = [listings, calendar, reviews]\n",
    "df_lis_names = ['listings', 'calendar', 'reviews']\n",
    "n=0\n",
    "for df in df_lis:\n",
    "    print(\"Record:\", df_lis_names[n])\n",
    "    n=n+1\n",
    "    display(df.head(3))\n",
    "    print(df.shape)\n",
    "    print('\\n')"
   ]
  },
  {
   "cell_type": "code",
   "execution_count": 210,
   "metadata": {},
   "outputs": [
    {
     "data": {
      "text/plain": [
       "Index(['id', 'listing_url', 'scrape_id', 'last_scraped', 'name', 'summary',\n",
       "       'space', 'description', 'experiences_offered', 'neighborhood_overview',\n",
       "       'notes', 'transit', 'thumbnail_url', 'medium_url', 'picture_url',\n",
       "       'xl_picture_url', 'host_id', 'host_url', 'host_name', 'host_since',\n",
       "       'host_location', 'host_about', 'host_response_time',\n",
       "       'host_response_rate', 'host_acceptance_rate', 'host_is_superhost',\n",
       "       'host_thumbnail_url', 'host_picture_url', 'host_neighbourhood',\n",
       "       'host_listings_count', 'host_total_listings_count',\n",
       "       'host_verifications', 'host_has_profile_pic', 'host_identity_verified',\n",
       "       'street', 'neighbourhood', 'neighbourhood_cleansed',\n",
       "       'neighbourhood_group_cleansed', 'city', 'state', 'zipcode', 'market',\n",
       "       'smart_location', 'country_code', 'country', 'latitude', 'longitude',\n",
       "       'is_location_exact', 'property_type', 'room_type', 'accommodates',\n",
       "       'bathrooms', 'bedrooms', 'beds', 'bed_type', 'amenities', 'square_feet',\n",
       "       'price', 'weekly_price', 'monthly_price', 'security_deposit',\n",
       "       'cleaning_fee', 'guests_included', 'extra_people', 'minimum_nights',\n",
       "       'maximum_nights', 'calendar_updated', 'has_availability',\n",
       "       'availability_30', 'availability_60', 'availability_90',\n",
       "       'availability_365', 'calendar_last_scraped', 'number_of_reviews',\n",
       "       'first_review', 'last_review', 'review_scores_rating',\n",
       "       'review_scores_accuracy', 'review_scores_cleanliness',\n",
       "       'review_scores_checkin', 'review_scores_communication',\n",
       "       'review_scores_location', 'review_scores_value', 'requires_license',\n",
       "       'license', 'jurisdiction_names', 'instant_bookable',\n",
       "       'cancellation_policy', 'require_guest_profile_picture',\n",
       "       'require_guest_phone_verification', 'calculated_host_listings_count',\n",
       "       'reviews_per_month'],\n",
       "      dtype='object')"
      ]
     },
     "execution_count": 210,
     "metadata": {},
     "output_type": "execute_result"
    }
   ],
   "source": [
    "listings.columns"
   ]
  },
  {
   "cell_type": "markdown",
   "metadata": {},
   "source": [
    "### A. Initial Observations: <a name=\"observations1\"></a>\n",
    "- I can combine these data sets on listing_id, but I need to change 'id' to 'listing_id' on listings df\n",
    "- there are a lot of columns that I don't need\n",
    "- columns of type int/boolean/float would be most useful"
   ]
  },
  {
   "cell_type": "markdown",
   "metadata": {},
   "source": [
    "### B. Demonstration of Business and Data Understanding: <a name=\"understanding\"></a>\n",
    "> The business goal for airbnb are clear: to drive revenue. This can be thought of from a mulitude of angles considering the things that factor into revenue growth. It is important to have consistent and high rates of bookings, at consistent market reflective prices. It is important to recieve positive feedback in reviews in order to drive further growth by way of more bookings, causing more demand and even a possible increase in prices. \n",
    "\n",
    "> The data at hand can help to answer some of these questions that ultimately lead back to driving revenue. We have data reflecting listings available, calendar of availability, as well as reviews. This will all be helpful in creating business insights."
   ]
  },
  {
   "cell_type": "markdown",
   "metadata": {},
   "source": [
    "### C. Possible Questions: <a name=\"questions\"></a>\n",
    "- If host_id has more than one listing_id are they more likely to be better?\n",
    "- Is there any buzz word in 'name' that is associated with more bookings?\n",
    "- Does having more pictures help?\n",
    "- Which review score is most indicative of a good overall score?\n",
    "- What factors have the largest affect on how much money is made from each airbnb listing?\n"
   ]
  },
  {
   "cell_type": "markdown",
   "metadata": {},
   "source": [
    "### D. Data Preparation <a name=\"prep\"></a>"
   ]
  },
  {
   "cell_type": "markdown",
   "metadata": {},
   "source": [
    "#### a. Clean listings df <a name=\"listings\"></a>"
   ]
  },
  {
   "cell_type": "code",
   "execution_count": 211,
   "metadata": {},
   "outputs": [],
   "source": [
    "## change 'id' to 'listing_id' in listings df\n",
    "listings.rename(columns = {'id': 'listing_id'}, inplace= True)"
   ]
  },
  {
   "cell_type": "code",
   "execution_count": 212,
   "metadata": {},
   "outputs": [],
   "source": [
    "## Drop any column that has only one variable\n",
    "for col in listings.columns:\n",
    "    if len(listings[col].unique()) == 1:\n",
    "        listings.drop(col,inplace=True,axis=1)   "
   ]
  },
  {
   "cell_type": "code",
   "execution_count": 213,
   "metadata": {},
   "outputs": [],
   "source": [
    "## Change superhost to boolean\n",
    "listings['host_is_superhost'] = listings['host_is_superhost'].replace({'t': True, \n",
    "                                                                       'f': False})"
   ]
  },
  {
   "cell_type": "code",
   "execution_count": 214,
   "metadata": {},
   "outputs": [],
   "source": [
    "## replace photo info to boolean (has photo or doesn't have photo)\n",
    "# replace non nan values in 'thumbnail_url', 'medium_url', 'picture_url', 'xl_picture_url'\n",
    "listings['thumbnail_url'] = ((listings['thumbnail_url'].notnull()).astype('int'))\n",
    "listings['medium_url'] = ((listings['medium_url'].notnull()).astype('int'))\n",
    "listings['picture_url'] = ((listings['picture_url'].notnull()).astype('int'))\n",
    "listings['xl_picture_url'] = ((listings['xl_picture_url'].notnull()).astype('int'))"
   ]
  },
  {
   "cell_type": "code",
   "execution_count": 215,
   "metadata": {},
   "outputs": [],
   "source": [
    "## Change dtype of price from string to int\n",
    "listings['price'] = listings['price'].str.strip('$')\n",
    "listings['price'] = listings['price'].str.split('.',expand=True)\n",
    "listings['price'] = listings['price'].str.replace(',', '').astype(int)"
   ]
  },
  {
   "cell_type": "code",
   "execution_count": 216,
   "metadata": {},
   "outputs": [],
   "source": [
    "## Change dtype of cleaning feww from string to float\n",
    "listings['cleaning_fee']=listings['cleaning_fee'].str.lstrip('$').astype(float)"
   ]
  },
  {
   "cell_type": "code",
   "execution_count": 217,
   "metadata": {},
   "outputs": [],
   "source": [
    "## Create column for binned review scores\n",
    "listings['review_bins']= pd.cut(listings.review_scores_rating,bins=[0,10,20,30,40,50,60,70,80,90,100],\n",
    "                             labels=['1-10','11-20','21-30','31-40','41-50','51-60','61-70','71-80','81-90','91-100'])"
   ]
  },
  {
   "cell_type": "code",
   "execution_count": 218,
   "metadata": {},
   "outputs": [],
   "source": [
    "## Create column for binned number of listings\n",
    "listings['num_listings_bins']= pd.cut(listings.host_listings_count,bins=[0,5,20,100,10000],\n",
    "                                   labels=['1-5','6-20','21-100','101-inf'])"
   ]
  },
  {
   "cell_type": "code",
   "execution_count": 219,
   "metadata": {},
   "outputs": [],
   "source": [
    "## I will consider the number of non available days in the next 60 days to be the \n",
    "# number of bookings for the upcoming 60 days bc this is an appropriate time to plan a trip\n",
    "listings['num_bookings_60d']= 60-listings['availability_60']\n",
    "\n",
    "## Create column for binned number of bookings\n",
    "listings['num_bookings_bins']= pd.cut(listings.num_bookings_60d,bins=[0,10,20,30,40,50,60],\n",
    "                                   labels=['1-10','11-20','21-30','31-40','41-50','51-60'])\n"
   ]
  },
  {
   "cell_type": "code",
   "execution_count": 220,
   "metadata": {},
   "outputs": [],
   "source": [
    "## Create column for binned price of airbnb\n",
    "listings['price_bins']= pd.cut(listings.price,bins=[0,100,200,300,400,500,600,700,800,900,1000],\n",
    "                                   labels=['1-100','101-200','201-300','301-400','401-500','501-600',\n",
    "                                           '601-700','701-800','801-900','901-1000'])"
   ]
  },
  {
   "cell_type": "code",
   "execution_count": 221,
   "metadata": {},
   "outputs": [],
   "source": [
    "## Add profit column (*I am defining profit as money to be made in next 60 days)\n",
    "listings['profit'] = listings['price'] * listings['num_bookings_60d']"
   ]
  },
  {
   "cell_type": "code",
   "execution_count": 222,
   "metadata": {},
   "outputs": [],
   "source": [
    "## Add number of photos column\n",
    "pics=['thumbnail_url', 'medium_url', 'picture_url', 'xl_picture_url']\n",
    "num_pics =listings[pics].sum(axis=1)\n",
    "listings['num_pics']=num_pics"
   ]
  },
  {
   "cell_type": "markdown",
   "metadata": {},
   "source": [
    "#### b. Clean calendar df <a name=\"calendar\"></a>"
   ]
  },
  {
   "cell_type": "code",
   "execution_count": 223,
   "metadata": {},
   "outputs": [],
   "source": [
    "calendar['available'] = calendar['available'].replace({'t': True, \n",
    "                                    'f': False})"
   ]
  },
  {
   "cell_type": "markdown",
   "metadata": {},
   "source": [
    "#### c. Clean reviews df <a name=\"reviews\"></a>"
   ]
  },
  {
   "cell_type": "code",
   "execution_count": 224,
   "metadata": {},
   "outputs": [
    {
     "data": {
      "text/html": [
       "<div>\n",
       "<style scoped>\n",
       "    .dataframe tbody tr th:only-of-type {\n",
       "        vertical-align: middle;\n",
       "    }\n",
       "\n",
       "    .dataframe tbody tr th {\n",
       "        vertical-align: top;\n",
       "    }\n",
       "\n",
       "    .dataframe thead th {\n",
       "        text-align: right;\n",
       "    }\n",
       "</style>\n",
       "<table border=\"1\" class=\"dataframe\">\n",
       "  <thead>\n",
       "    <tr style=\"text-align: right;\">\n",
       "      <th></th>\n",
       "      <th>listing_id</th>\n",
       "      <th>id</th>\n",
       "      <th>date</th>\n",
       "      <th>reviewer_id</th>\n",
       "      <th>reviewer_name</th>\n",
       "      <th>comments</th>\n",
       "    </tr>\n",
       "  </thead>\n",
       "  <tbody>\n",
       "    <tr>\n",
       "      <th>0</th>\n",
       "      <td>7202016</td>\n",
       "      <td>38917982</td>\n",
       "      <td>2015-07-19</td>\n",
       "      <td>28943674</td>\n",
       "      <td>Bianca</td>\n",
       "      <td>Cute and cozy place. Perfect location to every...</td>\n",
       "    </tr>\n",
       "    <tr>\n",
       "      <th>1</th>\n",
       "      <td>7202016</td>\n",
       "      <td>39087409</td>\n",
       "      <td>2015-07-20</td>\n",
       "      <td>32440555</td>\n",
       "      <td>Frank</td>\n",
       "      <td>Kelly has a great room in a very central locat...</td>\n",
       "    </tr>\n",
       "    <tr>\n",
       "      <th>2</th>\n",
       "      <td>7202016</td>\n",
       "      <td>39820030</td>\n",
       "      <td>2015-07-26</td>\n",
       "      <td>37722850</td>\n",
       "      <td>Ian</td>\n",
       "      <td>Very spacious apartment, and in a great neighb...</td>\n",
       "    </tr>\n",
       "  </tbody>\n",
       "</table>\n",
       "</div>"
      ],
      "text/plain": [
       "   listing_id        id        date  reviewer_id reviewer_name  \\\n",
       "0     7202016  38917982  2015-07-19     28943674        Bianca   \n",
       "1     7202016  39087409  2015-07-20     32440555         Frank   \n",
       "2     7202016  39820030  2015-07-26     37722850           Ian   \n",
       "\n",
       "                                            comments  \n",
       "0  Cute and cozy place. Perfect location to every...  \n",
       "1  Kelly has a great room in a very central locat...  \n",
       "2  Very spacious apartment, and in a great neighb...  "
      ]
     },
     "execution_count": 224,
     "metadata": {},
     "output_type": "execute_result"
    }
   ],
   "source": [
    "reviews.head(3)"
   ]
  },
  {
   "cell_type": "markdown",
   "metadata": {},
   "source": [
    "#### d. Merge <a name=\"finalmerge\"></a>"
   ]
  },
  {
   "cell_type": "code",
   "execution_count": 225,
   "metadata": {},
   "outputs": [],
   "source": [
    "## I actually realize I only need listings \n",
    "df = listings"
   ]
  },
  {
   "cell_type": "code",
   "execution_count": 226,
   "metadata": {},
   "outputs": [
    {
     "data": {
      "text/plain": [
       "(3818, 88)"
      ]
     },
     "execution_count": 226,
     "metadata": {},
     "output_type": "execute_result"
    }
   ],
   "source": [
    "df.shape"
   ]
  },
  {
   "cell_type": "markdown",
   "metadata": {},
   "source": [
    "_ _ _"
   ]
  },
  {
   "cell_type": "markdown",
   "metadata": {},
   "source": [
    "## Question 1: Is there any buzz word in airbnb listing 'name' that is associated with more bookings? <a name=\"question1\"></a>"
   ]
  },
  {
   "cell_type": "code",
   "execution_count": 227,
   "metadata": {},
   "outputs": [],
   "source": [
    "lis_q1 = ['listing_id', 'name', 'number_of_reviews', 'review_scores_rating', 'review_scores_accuracy',\n",
    "           'review_scores_value', 'reviews_per_month', 'review_bins', 'num_bookings_60d', 'num_bookings_bins']\n",
    "df_q1 = df[lis_q1]"
   ]
  },
  {
   "cell_type": "code",
   "execution_count": 228,
   "metadata": {},
   "outputs": [],
   "source": [
    "# create df of words used in names of airbnbs\n",
    "words_df = df_q1['name'].str.split(' ',expand=True)"
   ]
  },
  {
   "cell_type": "code",
   "execution_count": 229,
   "metadata": {},
   "outputs": [
    {
     "data": {
      "text/html": [
       "<div>\n",
       "<style scoped>\n",
       "    .dataframe tbody tr th:only-of-type {\n",
       "        vertical-align: middle;\n",
       "    }\n",
       "\n",
       "    .dataframe tbody tr th {\n",
       "        vertical-align: top;\n",
       "    }\n",
       "\n",
       "    .dataframe thead th {\n",
       "        text-align: right;\n",
       "    }\n",
       "</style>\n",
       "<table border=\"1\" class=\"dataframe\">\n",
       "  <thead>\n",
       "    <tr style=\"text-align: right;\">\n",
       "      <th></th>\n",
       "      <th>0</th>\n",
       "      <th>1</th>\n",
       "      <th>2</th>\n",
       "      <th>3</th>\n",
       "      <th>4</th>\n",
       "      <th>5</th>\n",
       "      <th>6</th>\n",
       "      <th>7</th>\n",
       "      <th>8</th>\n",
       "      <th>9</th>\n",
       "      <th>10</th>\n",
       "    </tr>\n",
       "  </thead>\n",
       "  <tbody>\n",
       "    <tr>\n",
       "      <th>0</th>\n",
       "      <td>Stylish</td>\n",
       "      <td>Queen</td>\n",
       "      <td>Anne</td>\n",
       "      <td>Apartment</td>\n",
       "      <td>None</td>\n",
       "      <td>None</td>\n",
       "      <td>None</td>\n",
       "      <td>None</td>\n",
       "      <td>None</td>\n",
       "      <td>None</td>\n",
       "      <td>None</td>\n",
       "    </tr>\n",
       "    <tr>\n",
       "      <th>1</th>\n",
       "      <td>Bright</td>\n",
       "      <td>&amp;</td>\n",
       "      <td>Airy</td>\n",
       "      <td>Queen</td>\n",
       "      <td>Anne</td>\n",
       "      <td>Apartment</td>\n",
       "      <td>None</td>\n",
       "      <td>None</td>\n",
       "      <td>None</td>\n",
       "      <td>None</td>\n",
       "      <td>None</td>\n",
       "    </tr>\n",
       "    <tr>\n",
       "      <th>2</th>\n",
       "      <td>New</td>\n",
       "      <td>Modern</td>\n",
       "      <td>House-Amazing</td>\n",
       "      <td>water</td>\n",
       "      <td>view</td>\n",
       "      <td>None</td>\n",
       "      <td>None</td>\n",
       "      <td>None</td>\n",
       "      <td>None</td>\n",
       "      <td>None</td>\n",
       "      <td>None</td>\n",
       "    </tr>\n",
       "    <tr>\n",
       "      <th>3</th>\n",
       "      <td>Queen</td>\n",
       "      <td>Anne</td>\n",
       "      <td>Chateau</td>\n",
       "      <td>None</td>\n",
       "      <td>None</td>\n",
       "      <td>None</td>\n",
       "      <td>None</td>\n",
       "      <td>None</td>\n",
       "      <td>None</td>\n",
       "      <td>None</td>\n",
       "      <td>None</td>\n",
       "    </tr>\n",
       "    <tr>\n",
       "      <th>4</th>\n",
       "      <td>Charming</td>\n",
       "      <td>craftsman</td>\n",
       "      <td>3</td>\n",
       "      <td>bdm</td>\n",
       "      <td>house</td>\n",
       "      <td>None</td>\n",
       "      <td>None</td>\n",
       "      <td>None</td>\n",
       "      <td>None</td>\n",
       "      <td>None</td>\n",
       "      <td>None</td>\n",
       "    </tr>\n",
       "  </tbody>\n",
       "</table>\n",
       "</div>"
      ],
      "text/plain": [
       "         0          1              2          3      4          5     6   \\\n",
       "0   Stylish      Queen           Anne  Apartment   None       None  None   \n",
       "1    Bright          &           Airy      Queen   Anne  Apartment  None   \n",
       "2       New     Modern  House-Amazing      water   view       None  None   \n",
       "3     Queen       Anne        Chateau       None   None       None  None   \n",
       "4  Charming  craftsman              3        bdm  house       None  None   \n",
       "\n",
       "     7     8     9     10  \n",
       "0  None  None  None  None  \n",
       "1  None  None  None  None  \n",
       "2  None  None  None  None  \n",
       "3  None  None  None  None  \n",
       "4  None  None  None  None  "
      ]
     },
     "execution_count": 229,
     "metadata": {},
     "output_type": "execute_result"
    }
   ],
   "source": [
    "words_df.head()"
   ]
  },
  {
   "cell_type": "code",
   "execution_count": 230,
   "metadata": {},
   "outputs": [],
   "source": [
    "drop=[1,2,3,4,5,6,7,8,9,10]\n",
    "words_df.drop(drop, axis=1, inplace=True)"
   ]
  },
  {
   "cell_type": "code",
   "execution_count": 231,
   "metadata": {},
   "outputs": [
    {
     "data": {
      "text/html": [
       "<div>\n",
       "<style scoped>\n",
       "    .dataframe tbody tr th:only-of-type {\n",
       "        vertical-align: middle;\n",
       "    }\n",
       "\n",
       "    .dataframe tbody tr th {\n",
       "        vertical-align: top;\n",
       "    }\n",
       "\n",
       "    .dataframe thead th {\n",
       "        text-align: right;\n",
       "    }\n",
       "</style>\n",
       "<table border=\"1\" class=\"dataframe\">\n",
       "  <thead>\n",
       "    <tr style=\"text-align: right;\">\n",
       "      <th></th>\n",
       "      <th>0</th>\n",
       "    </tr>\n",
       "  </thead>\n",
       "  <tbody>\n",
       "    <tr>\n",
       "      <th>count</th>\n",
       "      <td>3818</td>\n",
       "    </tr>\n",
       "    <tr>\n",
       "      <th>unique</th>\n",
       "      <td>893</td>\n",
       "    </tr>\n",
       "    <tr>\n",
       "      <th>top</th>\n",
       "      <td>Cozy</td>\n",
       "    </tr>\n",
       "    <tr>\n",
       "      <th>freq</th>\n",
       "      <td>201</td>\n",
       "    </tr>\n",
       "  </tbody>\n",
       "</table>\n",
       "</div>"
      ],
      "text/plain": [
       "           0\n",
       "count   3818\n",
       "unique   893\n",
       "top     Cozy\n",
       "freq     201"
      ]
     },
     "execution_count": 231,
     "metadata": {},
     "output_type": "execute_result"
    }
   ],
   "source": [
    "words_df.describe()"
   ]
  },
  {
   "cell_type": "code",
   "execution_count": 232,
   "metadata": {},
   "outputs": [],
   "source": [
    "to_join = ['review_bins', 'num_bookings_bins']\n",
    "words_df = words_df.join(df_q1[to_join])"
   ]
  },
  {
   "cell_type": "code",
   "execution_count": 233,
   "metadata": {},
   "outputs": [
    {
     "name": "stdout",
     "output_type": "stream",
     "text": [
      "most common word in name for airbnbs with review score of 91-100: Cozy\n",
      "most common word in name for airbnbs with review score of 81-90: Cozy\n",
      "most common word in name for airbnbs with review score of 71-80: Cozy\n",
      "most common word in name for airbnbs with review score of 91-100: Center\n",
      "most common word in name for airbnbs with review score of 91-100: Spacious\n",
      "most common word in name for airbnbs with review score of 91-100: Capital\n",
      "most common word in name for airbnbs with review score of 91-100: Belltown\n"
     ]
    }
   ],
   "source": [
    "nineties_words = words_df[words_df['review_bins']=='91-100']\n",
    "a = nineties_words.describe().iloc[2,0] # most common word in name for airbnbs with review score of 91-100\n",
    "print(\"most common word in name for airbnbs with review score of 91-100:\", a)\n",
    "\n",
    "eighties_words = words_df[words_df['review_bins']=='81-90']\n",
    "b = eighties_words.describe().iloc[2,0] # most common word in name for airbnbs with review score of 81-90\n",
    "print(\"most common word in name for airbnbs with review score of 81-90:\", b)\n",
    "\n",
    "seventies_words = words_df[words_df['review_bins']=='71-80']\n",
    "c = seventies_words.describe().iloc[2,0] # most common word in name for airbnbs with review score of 71-80\n",
    "print(\"most common word in name for airbnbs with review score of 71-80:\", c)\n",
    "\n",
    "sixties_words = words_df[words_df['review_bins']=='61-70']\n",
    "d = sixties_words.describe().iloc[2,0] # most common word in name for airbnbs with review score of 61-70\n",
    "print(\"most common word in name for airbnbs with review score of 91-100:\", d)\n",
    "\n",
    "fifties_words = words_df[words_df['review_bins']=='51-60']\n",
    "e = fifties_words.describe().iloc[2,0] # most common word in name for airbnbs with review score of 51-60\n",
    "print(\"most common word in name for airbnbs with review score of 91-100:\", e)\n",
    "\n",
    "thirties_words = words_df[words_df['review_bins']=='31-40']\n",
    "f = thirties_words.describe().iloc[2,0] # most common word in name for airbnbs with review score of 31-40\n",
    "print(\"most common word in name for airbnbs with review score of 91-100:\", f)\n",
    "\n",
    "tens_words = words_df[words_df['review_bins']=='11-20']\n",
    "g = tens_words.describe().iloc[2,0] # most common word in name for airbnbs with review score of 11-20\n",
    "print(\"most common word in name for airbnbs with review score of 91-100:\", g)"
   ]
  },
  {
   "cell_type": "code",
   "execution_count": 234,
   "metadata": {},
   "outputs": [
    {
     "name": "stdout",
     "output_type": "stream",
     "text": [
      "most common word in name for airbnbs with 51-60 bookings: Cozy\n",
      "most common word in name for airbnbs with 41-50 bookings: Cozy\n",
      "most common word in name for airbnbs with 31-40 bookings: Charming\n",
      "most common word in name for airbnbs with 21-30 bookings: Cozy\n",
      "most common word in name for airbnbs with 11-20 bookings: Private\n",
      "most common word in name for airbnbs with 1-10 bookings: Cozy\n"
     ]
    }
   ],
   "source": [
    "high_booking = words_df[words_df['num_bookings_bins']=='51-60']\n",
    "a = high_booking.describe().iloc[2,0] # most common word in name for airbnbs with 51-60 bookings\n",
    "print(\"most common word in name for airbnbs with 51-60 bookings:\", a)\n",
    "\n",
    "fourties_booking = words_df[words_df['num_bookings_bins']=='41-50']\n",
    "b = fourties_booking.describe().iloc[2,0] # most common word in name for airbnbs with 41-50 bookings\n",
    "print(\"most common word in name for airbnbs with 41-50 bookings:\", b)\n",
    "\n",
    "thirties_booking = words_df[words_df['num_bookings_bins']=='31-40']\n",
    "c = thirties_booking.describe().iloc[2,0] # most common word in name for airbnbs with 31-40 bookings\n",
    "print(\"most common word in name for airbnbs with 31-40 bookings:\", c)\n",
    "\n",
    "twenties_booking = words_df[words_df['num_bookings_bins']=='21-30']\n",
    "d = twenties_booking.describe().iloc[2,0] # most common word in name for airbnbs with 21-30 bookings\n",
    "print(\"most common word in name for airbnbs with 21-30 bookings:\", d)\n",
    "\n",
    "tens_booking = words_df[words_df['num_bookings_bins']=='11-20']\n",
    "e = tens_booking.describe().iloc[2,0] # most common word in name for airbnbs with 11-20 bookings\n",
    "print(\"most common word in name for airbnbs with 11-20 bookings:\", e)\n",
    "\n",
    "low_booking = words_df[words_df['num_bookings_bins']=='1-10']\n",
    "f = low_booking.describe().iloc[2,0] # most common word in name for airbnbs with 1-10 bookings\n",
    "print(\"most common word in name for airbnbs with 1-10 bookings:\", f)"
   ]
  },
  {
   "cell_type": "code",
   "execution_count": 235,
   "metadata": {},
   "outputs": [],
   "source": [
    "## Now let's actually use some statistics to see if there is a \n",
    "# significant impact of buzz words on review score or number of bookings\n",
    "test=words_df"
   ]
  },
  {
   "cell_type": "code",
   "execution_count": 236,
   "metadata": {},
   "outputs": [],
   "source": [
    "to_join = ['num_bookings_60d', 'review_scores_rating']\n",
    "test = test.join(df_q1[to_join])"
   ]
  },
  {
   "cell_type": "code",
   "execution_count": 237,
   "metadata": {},
   "outputs": [],
   "source": [
    "drop2=['num_bookings_bins', 'review_bins']\n",
    "test.drop(drop2, axis=1, inplace=True)"
   ]
  },
  {
   "cell_type": "code",
   "execution_count": 238,
   "metadata": {},
   "outputs": [],
   "source": [
    "test= pd.get_dummies(test)"
   ]
  },
  {
   "cell_type": "code",
   "execution_count": 239,
   "metadata": {},
   "outputs": [],
   "source": [
    "test = test.dropna()"
   ]
  },
  {
   "cell_type": "code",
   "execution_count": 240,
   "metadata": {},
   "outputs": [
    {
     "name": "stderr",
     "output_type": "stream",
     "text": [
      "/Users/jessica.horvath@ibm.com/anaconda3/lib/python3.7/site-packages/sklearn/utils/validation.py:724: DataConversionWarning: A column-vector y was passed when a 1d array was expected. Please change the shape of y to (n_samples, ), for example using ravel().\n",
      "  y = column_or_1d(y, warn=True)\n"
     ]
    },
    {
     "data": {
      "text/html": [
       "<style  type=\"text/css\" >\n",
       "    #T_acb72bdc_9530_11ea_a819_88e9fe787d1frow0_col1 {\n",
       "            color:  green;\n",
       "        }    #T_acb72bdc_9530_11ea_a819_88e9fe787d1frow1_col1 {\n",
       "            color:  green;\n",
       "        }    #T_acb72bdc_9530_11ea_a819_88e9fe787d1frow2_col1 {\n",
       "            color:  red;\n",
       "        }    #T_acb72bdc_9530_11ea_a819_88e9fe787d1frow3_col1 {\n",
       "            color:  red;\n",
       "        }    #T_acb72bdc_9530_11ea_a819_88e9fe787d1frow4_col1 {\n",
       "            color:  red;\n",
       "        }</style><table id=\"T_acb72bdc_9530_11ea_a819_88e9fe787d1f\" ><thead>    <tr>        <th class=\"blank level0\" ></th>        <th class=\"col_heading level0 col0\" >f-statistic</th>        <th class=\"col_heading level0 col1\" >p-value</th>    </tr></thead><tbody>\n",
       "                <tr>\n",
       "                        <th id=\"T_acb72bdc_9530_11ea_a819_88e9fe787d1flevel0_row0\" class=\"row_heading level0 row0\" >0_Walk</th>\n",
       "                        <td id=\"T_acb72bdc_9530_11ea_a819_88e9fe787d1frow0_col0\" class=\"data row0 col0\" >1.94</td>\n",
       "                        <td id=\"T_acb72bdc_9530_11ea_a819_88e9fe787d1frow0_col1\" class=\"data row0 col1\" >0.00</td>\n",
       "            </tr>\n",
       "            <tr>\n",
       "                        <th id=\"T_acb72bdc_9530_11ea_a819_88e9fe787d1flevel0_row1\" class=\"row_heading level0 row1\" >0_Cozy</th>\n",
       "                        <td id=\"T_acb72bdc_9530_11ea_a819_88e9fe787d1frow1_col0\" class=\"data row1 col0\" >1.39</td>\n",
       "                        <td id=\"T_acb72bdc_9530_11ea_a819_88e9fe787d1frow1_col1\" class=\"data row1 col1\" >0.03</td>\n",
       "            </tr>\n",
       "            <tr>\n",
       "                        <th id=\"T_acb72bdc_9530_11ea_a819_88e9fe787d1flevel0_row2\" class=\"row_heading level0 row2\" >0_Private</th>\n",
       "                        <td id=\"T_acb72bdc_9530_11ea_a819_88e9fe787d1frow2_col0\" class=\"data row2 col0\" >0.85</td>\n",
       "                        <td id=\"T_acb72bdc_9530_11ea_a819_88e9fe787d1frow2_col1\" class=\"data row2 col1\" >0.79</td>\n",
       "            </tr>\n",
       "            <tr>\n",
       "                        <th id=\"T_acb72bdc_9530_11ea_a819_88e9fe787d1flevel0_row3\" class=\"row_heading level0 row3\" >0_Seattle</th>\n",
       "                        <td id=\"T_acb72bdc_9530_11ea_a819_88e9fe787d1frow3_col0\" class=\"data row3 col0\" >0.80</td>\n",
       "                        <td id=\"T_acb72bdc_9530_11ea_a819_88e9fe787d1frow3_col1\" class=\"data row3 col1\" >0.86</td>\n",
       "            </tr>\n",
       "            <tr>\n",
       "                        <th id=\"T_acb72bdc_9530_11ea_a819_88e9fe787d1flevel0_row4\" class=\"row_heading level0 row4\" >0_Ted's</th>\n",
       "                        <td id=\"T_acb72bdc_9530_11ea_a819_88e9fe787d1frow4_col0\" class=\"data row4 col0\" >0.17</td>\n",
       "                        <td id=\"T_acb72bdc_9530_11ea_a819_88e9fe787d1frow4_col1\" class=\"data row4 col1\" >1.00</td>\n",
       "            </tr>\n",
       "    </tbody></table>"
      ],
      "text/plain": [
       "<pandas.io.formats.style.Styler at 0x1a1ce02f98>"
      ]
     },
     "metadata": {},
     "output_type": "display_data"
    }
   ],
   "source": [
    "#def test_anova(data, features, target):\n",
    "features = ['0_Seattle', '0_Cozy', '0_Walk',\"0_Ted's\",'0_Private']\n",
    "target= ['num_bookings_60d']\n",
    "f, pval = f_classif(test[features], test[target])\n",
    "result = pd.DataFrame(index=features, data={'f-statistic': f, 'p-value': pval}).sort_values('f-statistic', ascending=False)\n",
    "color_fail = lambda v: 'color: %s' % ('red' if v > 0.05 else 'green')\n",
    "display(result.style.applymap(color_fail, subset='p-value').format(\"{:.2f}\"))\n",
    "#    return result"
   ]
  },
  {
   "cell_type": "code",
   "execution_count": 241,
   "metadata": {},
   "outputs": [
    {
     "name": "stderr",
     "output_type": "stream",
     "text": [
      "/Users/jessica.horvath@ibm.com/anaconda3/lib/python3.7/site-packages/sklearn/utils/validation.py:724: DataConversionWarning: A column-vector y was passed when a 1d array was expected. Please change the shape of y to (n_samples, ), for example using ravel().\n",
      "  y = column_or_1d(y, warn=True)\n"
     ]
    },
    {
     "data": {
      "text/html": [
       "<style  type=\"text/css\" >\n",
       "    #T_acd6e77e_9530_11ea_a819_88e9fe787d1frow0_col1 {\n",
       "            color:  green;\n",
       "        }    #T_acd6e77e_9530_11ea_a819_88e9fe787d1frow1_col1 {\n",
       "            color:  red;\n",
       "        }    #T_acd6e77e_9530_11ea_a819_88e9fe787d1frow2_col1 {\n",
       "            color:  red;\n",
       "        }    #T_acd6e77e_9530_11ea_a819_88e9fe787d1frow3_col1 {\n",
       "            color:  red;\n",
       "        }    #T_acd6e77e_9530_11ea_a819_88e9fe787d1frow4_col1 {\n",
       "            color:  red;\n",
       "        }</style><table id=\"T_acd6e77e_9530_11ea_a819_88e9fe787d1f\" ><thead>    <tr>        <th class=\"blank level0\" ></th>        <th class=\"col_heading level0 col0\" >f-statistic</th>        <th class=\"col_heading level0 col1\" >p-value</th>    </tr></thead><tbody>\n",
       "                <tr>\n",
       "                        <th id=\"T_acd6e77e_9530_11ea_a819_88e9fe787d1flevel0_row0\" class=\"row_heading level0 row0\" >0_Ted's</th>\n",
       "                        <td id=\"T_acd6e77e_9530_11ea_a819_88e9fe787d1frow0_col0\" class=\"data row0 col0\" >3.32</td>\n",
       "                        <td id=\"T_acd6e77e_9530_11ea_a819_88e9fe787d1frow0_col1\" class=\"data row0 col1\" >0.00</td>\n",
       "            </tr>\n",
       "            <tr>\n",
       "                        <th id=\"T_acd6e77e_9530_11ea_a819_88e9fe787d1flevel0_row1\" class=\"row_heading level0 row1\" >0_Private</th>\n",
       "                        <td id=\"T_acd6e77e_9530_11ea_a819_88e9fe787d1frow1_col0\" class=\"data row1 col0\" >1.29</td>\n",
       "                        <td id=\"T_acd6e77e_9530_11ea_a819_88e9fe787d1frow1_col1\" class=\"data row1 col1\" >0.10</td>\n",
       "            </tr>\n",
       "            <tr>\n",
       "                        <th id=\"T_acd6e77e_9530_11ea_a819_88e9fe787d1flevel0_row2\" class=\"row_heading level0 row2\" >0_Cozy</th>\n",
       "                        <td id=\"T_acd6e77e_9530_11ea_a819_88e9fe787d1frow2_col0\" class=\"data row2 col0\" >1.01</td>\n",
       "                        <td id=\"T_acd6e77e_9530_11ea_a819_88e9fe787d1frow2_col1\" class=\"data row2 col1\" >0.45</td>\n",
       "            </tr>\n",
       "            <tr>\n",
       "                        <th id=\"T_acd6e77e_9530_11ea_a819_88e9fe787d1flevel0_row3\" class=\"row_heading level0 row3\" >0_Seattle</th>\n",
       "                        <td id=\"T_acd6e77e_9530_11ea_a819_88e9fe787d1frow3_col0\" class=\"data row3 col0\" >0.91</td>\n",
       "                        <td id=\"T_acd6e77e_9530_11ea_a819_88e9fe787d1frow3_col1\" class=\"data row3 col1\" >0.63</td>\n",
       "            </tr>\n",
       "            <tr>\n",
       "                        <th id=\"T_acd6e77e_9530_11ea_a819_88e9fe787d1flevel0_row4\" class=\"row_heading level0 row4\" >0_Walk</th>\n",
       "                        <td id=\"T_acd6e77e_9530_11ea_a819_88e9fe787d1frow4_col0\" class=\"data row4 col0\" >0.26</td>\n",
       "                        <td id=\"T_acd6e77e_9530_11ea_a819_88e9fe787d1frow4_col1\" class=\"data row4 col1\" >1.00</td>\n",
       "            </tr>\n",
       "    </tbody></table>"
      ],
      "text/plain": [
       "<pandas.io.formats.style.Styler at 0x1a24ed1b70>"
      ]
     },
     "metadata": {},
     "output_type": "display_data"
    }
   ],
   "source": [
    "#def test_anova(data, features, target):\n",
    "features = ['0_Seattle', '0_Cozy', '0_Walk',\"0_Ted's\",'0_Private']\n",
    "target= ['review_scores_rating']\n",
    "f, pval = f_classif(test[features], test[target])\n",
    "result = pd.DataFrame(index=features, data={'f-statistic': f, 'p-value': pval}).sort_values('f-statistic', ascending=False)\n",
    "color_fail = lambda v: 'color: %s' % ('red' if v > 0.05 else 'green')\n",
    "display(result.style.applymap(color_fail, subset='p-value').format(\"{:.2f}\"))\n",
    "#    return result"
   ]
  },
  {
   "cell_type": "markdown",
   "metadata": {},
   "source": [
    "### Insight 1:  The most commonly used word is \"cozy\". \n",
    "This word has association with more bookings. The word cozy actually was statistically significant in the number of bookings(f-score=1.39, p=0.02), but not significant in the review ratings (f-score=1.10, p=0.45). \n",
    "<a name=\"insight1\"></a>"
   ]
  },
  {
   "cell_type": "markdown",
   "metadata": {},
   "source": [
    "_ _ _"
   ]
  },
  {
   "cell_type": "markdown",
   "metadata": {},
   "source": [
    "## Question 2:  Does having more pictures help increase bookings? <a name=\"question2\"></a>"
   ]
  },
  {
   "cell_type": "code",
   "execution_count": 242,
   "metadata": {},
   "outputs": [],
   "source": [
    "lis_q2 = ['listing_id', 'thumbnail_url', 'medium_url', 'picture_url', 'xl_picture_url', \n",
    "           'number_of_reviews', 'review_scores_rating', 'review_scores_accuracy', 'review_scores_value',\n",
    "          'reviews_per_month', 'availability_30', 'availability_60', 'availability_90', 'availability_365',\n",
    "          'num_bookings_60d', 'num_bookings_bins']\n",
    "df_q2 = df[lis_q2]"
   ]
  },
  {
   "cell_type": "code",
   "execution_count": 243,
   "metadata": {},
   "outputs": [
    {
     "data": {
      "text/html": [
       "<div>\n",
       "<style scoped>\n",
       "    .dataframe tbody tr th:only-of-type {\n",
       "        vertical-align: middle;\n",
       "    }\n",
       "\n",
       "    .dataframe tbody tr th {\n",
       "        vertical-align: top;\n",
       "    }\n",
       "\n",
       "    .dataframe thead th {\n",
       "        text-align: right;\n",
       "    }\n",
       "</style>\n",
       "<table border=\"1\" class=\"dataframe\">\n",
       "  <thead>\n",
       "    <tr style=\"text-align: right;\">\n",
       "      <th></th>\n",
       "      <th>listing_id</th>\n",
       "      <th>thumbnail_url</th>\n",
       "      <th>medium_url</th>\n",
       "      <th>picture_url</th>\n",
       "      <th>xl_picture_url</th>\n",
       "      <th>number_of_reviews</th>\n",
       "      <th>review_scores_rating</th>\n",
       "      <th>review_scores_accuracy</th>\n",
       "      <th>review_scores_value</th>\n",
       "      <th>reviews_per_month</th>\n",
       "      <th>availability_30</th>\n",
       "      <th>availability_60</th>\n",
       "      <th>availability_90</th>\n",
       "      <th>availability_365</th>\n",
       "      <th>num_bookings_60d</th>\n",
       "      <th>num_bookings_bins</th>\n",
       "    </tr>\n",
       "  </thead>\n",
       "  <tbody>\n",
       "    <tr>\n",
       "      <th>0</th>\n",
       "      <td>241032</td>\n",
       "      <td>0</td>\n",
       "      <td>0</td>\n",
       "      <td>1</td>\n",
       "      <td>0</td>\n",
       "      <td>207</td>\n",
       "      <td>95.0</td>\n",
       "      <td>10.0</td>\n",
       "      <td>10.0</td>\n",
       "      <td>4.07</td>\n",
       "      <td>14</td>\n",
       "      <td>41</td>\n",
       "      <td>71</td>\n",
       "      <td>346</td>\n",
       "      <td>19</td>\n",
       "      <td>11-20</td>\n",
       "    </tr>\n",
       "    <tr>\n",
       "      <th>1</th>\n",
       "      <td>953595</td>\n",
       "      <td>1</td>\n",
       "      <td>1</td>\n",
       "      <td>1</td>\n",
       "      <td>1</td>\n",
       "      <td>43</td>\n",
       "      <td>96.0</td>\n",
       "      <td>10.0</td>\n",
       "      <td>10.0</td>\n",
       "      <td>1.48</td>\n",
       "      <td>13</td>\n",
       "      <td>13</td>\n",
       "      <td>16</td>\n",
       "      <td>291</td>\n",
       "      <td>47</td>\n",
       "      <td>41-50</td>\n",
       "    </tr>\n",
       "    <tr>\n",
       "      <th>2</th>\n",
       "      <td>3308979</td>\n",
       "      <td>0</td>\n",
       "      <td>0</td>\n",
       "      <td>1</td>\n",
       "      <td>0</td>\n",
       "      <td>20</td>\n",
       "      <td>97.0</td>\n",
       "      <td>10.0</td>\n",
       "      <td>10.0</td>\n",
       "      <td>1.15</td>\n",
       "      <td>1</td>\n",
       "      <td>6</td>\n",
       "      <td>17</td>\n",
       "      <td>220</td>\n",
       "      <td>54</td>\n",
       "      <td>51-60</td>\n",
       "    </tr>\n",
       "    <tr>\n",
       "      <th>3</th>\n",
       "      <td>7421966</td>\n",
       "      <td>0</td>\n",
       "      <td>0</td>\n",
       "      <td>1</td>\n",
       "      <td>0</td>\n",
       "      <td>0</td>\n",
       "      <td>NaN</td>\n",
       "      <td>NaN</td>\n",
       "      <td>NaN</td>\n",
       "      <td>NaN</td>\n",
       "      <td>0</td>\n",
       "      <td>0</td>\n",
       "      <td>0</td>\n",
       "      <td>143</td>\n",
       "      <td>60</td>\n",
       "      <td>51-60</td>\n",
       "    </tr>\n",
       "    <tr>\n",
       "      <th>4</th>\n",
       "      <td>278830</td>\n",
       "      <td>0</td>\n",
       "      <td>0</td>\n",
       "      <td>1</td>\n",
       "      <td>0</td>\n",
       "      <td>38</td>\n",
       "      <td>92.0</td>\n",
       "      <td>9.0</td>\n",
       "      <td>9.0</td>\n",
       "      <td>0.89</td>\n",
       "      <td>30</td>\n",
       "      <td>60</td>\n",
       "      <td>90</td>\n",
       "      <td>365</td>\n",
       "      <td>0</td>\n",
       "      <td>NaN</td>\n",
       "    </tr>\n",
       "  </tbody>\n",
       "</table>\n",
       "</div>"
      ],
      "text/plain": [
       "   listing_id  thumbnail_url  medium_url  picture_url  xl_picture_url  \\\n",
       "0      241032              0           0            1               0   \n",
       "1      953595              1           1            1               1   \n",
       "2     3308979              0           0            1               0   \n",
       "3     7421966              0           0            1               0   \n",
       "4      278830              0           0            1               0   \n",
       "\n",
       "   number_of_reviews  review_scores_rating  review_scores_accuracy  \\\n",
       "0                207                  95.0                    10.0   \n",
       "1                 43                  96.0                    10.0   \n",
       "2                 20                  97.0                    10.0   \n",
       "3                  0                   NaN                     NaN   \n",
       "4                 38                  92.0                     9.0   \n",
       "\n",
       "   review_scores_value  reviews_per_month  availability_30  availability_60  \\\n",
       "0                 10.0               4.07               14               41   \n",
       "1                 10.0               1.48               13               13   \n",
       "2                 10.0               1.15                1                6   \n",
       "3                  NaN                NaN                0                0   \n",
       "4                  9.0               0.89               30               60   \n",
       "\n",
       "   availability_90  availability_365  num_bookings_60d num_bookings_bins  \n",
       "0               71               346                19             11-20  \n",
       "1               16               291                47             41-50  \n",
       "2               17               220                54             51-60  \n",
       "3                0               143                60             51-60  \n",
       "4               90               365                 0               NaN  "
      ]
     },
     "execution_count": 243,
     "metadata": {},
     "output_type": "execute_result"
    }
   ],
   "source": [
    "df_q2.head()"
   ]
  },
  {
   "cell_type": "code",
   "execution_count": 244,
   "metadata": {},
   "outputs": [],
   "source": [
    "pics=['thumbnail_url', 'medium_url', 'picture_url', 'xl_picture_url']\n",
    "num_pics =df_q2[pics].sum(axis=1)"
   ]
  },
  {
   "cell_type": "code",
   "execution_count": 245,
   "metadata": {},
   "outputs": [
    {
     "name": "stderr",
     "output_type": "stream",
     "text": [
      "/Users/jessica.horvath@ibm.com/anaconda3/lib/python3.7/site-packages/ipykernel_launcher.py:1: SettingWithCopyWarning: \n",
      "A value is trying to be set on a copy of a slice from a DataFrame.\n",
      "Try using .loc[row_indexer,col_indexer] = value instead\n",
      "\n",
      "See the caveats in the documentation: http://pandas.pydata.org/pandas-docs/stable/indexing.html#indexing-view-versus-copy\n",
      "  \"\"\"Entry point for launching an IPython kernel.\n"
     ]
    }
   ],
   "source": [
    "df_q2['num_pics']=num_pics"
   ]
  },
  {
   "cell_type": "code",
   "execution_count": 246,
   "metadata": {},
   "outputs": [
    {
     "data": {
      "text/plain": [
       "(3818, 88)"
      ]
     },
     "execution_count": 246,
     "metadata": {},
     "output_type": "execute_result"
    }
   ],
   "source": [
    "df.shape"
   ]
  },
  {
   "cell_type": "code",
   "execution_count": 248,
   "metadata": {},
   "outputs": [
    {
     "name": "stderr",
     "output_type": "stream",
     "text": [
      "/Users/jessica.horvath@ibm.com/anaconda3/lib/python3.7/site-packages/sklearn/utils/validation.py:724: DataConversionWarning: A column-vector y was passed when a 1d array was expected. Please change the shape of y to (n_samples, ), for example using ravel().\n",
      "  y = column_or_1d(y, warn=True)\n",
      "/Users/jessica.horvath@ibm.com/anaconda3/lib/python3.7/site-packages/sklearn/feature_selection/univariate_selection.py:114: UserWarning: Features [2] are constant.\n",
      "  UserWarning)\n",
      "/Users/jessica.horvath@ibm.com/anaconda3/lib/python3.7/site-packages/sklearn/feature_selection/univariate_selection.py:115: RuntimeWarning: invalid value encountered in true_divide\n",
      "  f = msb / msw\n"
     ]
    },
    {
     "data": {
      "text/html": [
       "<style  type=\"text/css\" >\n",
       "    #T_ae343662_9530_11ea_a819_88e9fe787d1frow0_col1 {\n",
       "            color:  red;\n",
       "        }    #T_ae343662_9530_11ea_a819_88e9fe787d1frow1_col1 {\n",
       "            color:  red;\n",
       "        }    #T_ae343662_9530_11ea_a819_88e9fe787d1frow2_col1 {\n",
       "            color:  red;\n",
       "        }    #T_ae343662_9530_11ea_a819_88e9fe787d1frow3_col1 {\n",
       "            color:  red;\n",
       "        }    #T_ae343662_9530_11ea_a819_88e9fe787d1frow4_col1 {\n",
       "            color:  green;\n",
       "        }</style><table id=\"T_ae343662_9530_11ea_a819_88e9fe787d1f\" ><thead>    <tr>        <th class=\"blank level0\" ></th>        <th class=\"col_heading level0 col0\" >f-statistic</th>        <th class=\"col_heading level0 col1\" >p-value</th>    </tr></thead><tbody>\n",
       "                <tr>\n",
       "                        <th id=\"T_ae343662_9530_11ea_a819_88e9fe787d1flevel0_row0\" class=\"row_heading level0 row0\" >num_pics</th>\n",
       "                        <td id=\"T_ae343662_9530_11ea_a819_88e9fe787d1frow0_col0\" class=\"data row0 col0\" >1.07</td>\n",
       "                        <td id=\"T_ae343662_9530_11ea_a819_88e9fe787d1frow0_col1\" class=\"data row0 col1\" >0.33</td>\n",
       "            </tr>\n",
       "            <tr>\n",
       "                        <th id=\"T_ae343662_9530_11ea_a819_88e9fe787d1flevel0_row1\" class=\"row_heading level0 row1\" >thumbnail_url</th>\n",
       "                        <td id=\"T_ae343662_9530_11ea_a819_88e9fe787d1frow1_col0\" class=\"data row1 col0\" >1.07</td>\n",
       "                        <td id=\"T_ae343662_9530_11ea_a819_88e9fe787d1frow1_col1\" class=\"data row1 col1\" >0.33</td>\n",
       "            </tr>\n",
       "            <tr>\n",
       "                        <th id=\"T_ae343662_9530_11ea_a819_88e9fe787d1flevel0_row2\" class=\"row_heading level0 row2\" >medium_url</th>\n",
       "                        <td id=\"T_ae343662_9530_11ea_a819_88e9fe787d1frow2_col0\" class=\"data row2 col0\" >1.07</td>\n",
       "                        <td id=\"T_ae343662_9530_11ea_a819_88e9fe787d1frow2_col1\" class=\"data row2 col1\" >0.33</td>\n",
       "            </tr>\n",
       "            <tr>\n",
       "                        <th id=\"T_ae343662_9530_11ea_a819_88e9fe787d1flevel0_row3\" class=\"row_heading level0 row3\" >xl_picture_url</th>\n",
       "                        <td id=\"T_ae343662_9530_11ea_a819_88e9fe787d1frow3_col0\" class=\"data row3 col0\" >1.07</td>\n",
       "                        <td id=\"T_ae343662_9530_11ea_a819_88e9fe787d1frow3_col1\" class=\"data row3 col1\" >0.33</td>\n",
       "            </tr>\n",
       "            <tr>\n",
       "                        <th id=\"T_ae343662_9530_11ea_a819_88e9fe787d1flevel0_row4\" class=\"row_heading level0 row4\" >picture_url</th>\n",
       "                        <td id=\"T_ae343662_9530_11ea_a819_88e9fe787d1frow4_col0\" class=\"data row4 col0\" >nan</td>\n",
       "                        <td id=\"T_ae343662_9530_11ea_a819_88e9fe787d1frow4_col1\" class=\"data row4 col1\" >nan</td>\n",
       "            </tr>\n",
       "    </tbody></table>"
      ],
      "text/plain": [
       "<pandas.io.formats.style.Styler at 0x1a23e00390>"
      ]
     },
     "metadata": {},
     "output_type": "display_data"
    }
   ],
   "source": [
    "#def test_anova(data, features, target):\n",
    "features = ['thumbnail_url', 'medium_url', 'picture_url', 'xl_picture_url', 'num_pics']\n",
    "target= ['num_bookings_60d']\n",
    "f, pval = f_classif(df_q2[features], df_q2[target])\n",
    "result = pd.DataFrame(index=features, data={'f-statistic': f, 'p-value': pval}).sort_values('f-statistic', ascending=False)\n",
    "color_fail = lambda v: 'color: %s' % ('red' if v > 0.05 else 'green')\n",
    "display(result.style.applymap(color_fail, subset='p-value').format(\"{:.2f}\"))\n",
    "#    return result"
   ]
  },
  {
   "cell_type": "markdown",
   "metadata": {},
   "source": [
    "### Insight 2: More listing photos do not mean more bookings.<a name=\"insight2\"></a>\n",
    "Although I would have predicted that more photos may reflect better on a listing thus resulting in more bookings, it does not seem to be the case. Perhaps it is the quality of the photos rather than the quantity that is more important, however that would be difficult to analyze."
   ]
  },
  {
   "cell_type": "markdown",
   "metadata": {},
   "source": [
    "## Question 3: Which neighborhood is most profitable?<a name=\"question3\"></a>"
   ]
  },
  {
   "cell_type": "code",
   "execution_count": 296,
   "metadata": {},
   "outputs": [],
   "source": [
    "lis_q3 = ['listing_id', 'profit', 'neighbourhood_cleansed','neighbourhood_group_cleansed', 'review_scores_location',\n",
    "          'price', 'price_bins','num_bookings_60d', 'num_bookings_bins']\n",
    "df_q3 = df[lis_q3]"
   ]
  },
  {
   "cell_type": "code",
   "execution_count": 297,
   "metadata": {},
   "outputs": [
    {
     "data": {
      "text/html": [
       "<div>\n",
       "<style scoped>\n",
       "    .dataframe tbody tr th:only-of-type {\n",
       "        vertical-align: middle;\n",
       "    }\n",
       "\n",
       "    .dataframe tbody tr th {\n",
       "        vertical-align: top;\n",
       "    }\n",
       "\n",
       "    .dataframe thead th {\n",
       "        text-align: right;\n",
       "    }\n",
       "</style>\n",
       "<table border=\"1\" class=\"dataframe\">\n",
       "  <thead>\n",
       "    <tr style=\"text-align: right;\">\n",
       "      <th></th>\n",
       "      <th>listing_id</th>\n",
       "      <th>profit</th>\n",
       "      <th>neighbourhood_cleansed</th>\n",
       "      <th>neighbourhood_group_cleansed</th>\n",
       "      <th>review_scores_location</th>\n",
       "      <th>price</th>\n",
       "      <th>price_bins</th>\n",
       "      <th>num_bookings_60d</th>\n",
       "      <th>num_bookings_bins</th>\n",
       "    </tr>\n",
       "  </thead>\n",
       "  <tbody>\n",
       "    <tr>\n",
       "      <th>0</th>\n",
       "      <td>241032</td>\n",
       "      <td>1615</td>\n",
       "      <td>West Queen Anne</td>\n",
       "      <td>Queen Anne</td>\n",
       "      <td>9.0</td>\n",
       "      <td>85</td>\n",
       "      <td>1-100</td>\n",
       "      <td>19</td>\n",
       "      <td>11-20</td>\n",
       "    </tr>\n",
       "    <tr>\n",
       "      <th>1</th>\n",
       "      <td>953595</td>\n",
       "      <td>7050</td>\n",
       "      <td>West Queen Anne</td>\n",
       "      <td>Queen Anne</td>\n",
       "      <td>10.0</td>\n",
       "      <td>150</td>\n",
       "      <td>101-200</td>\n",
       "      <td>47</td>\n",
       "      <td>41-50</td>\n",
       "    </tr>\n",
       "    <tr>\n",
       "      <th>2</th>\n",
       "      <td>3308979</td>\n",
       "      <td>52650</td>\n",
       "      <td>West Queen Anne</td>\n",
       "      <td>Queen Anne</td>\n",
       "      <td>10.0</td>\n",
       "      <td>975</td>\n",
       "      <td>901-1000</td>\n",
       "      <td>54</td>\n",
       "      <td>51-60</td>\n",
       "    </tr>\n",
       "    <tr>\n",
       "      <th>3</th>\n",
       "      <td>7421966</td>\n",
       "      <td>6000</td>\n",
       "      <td>West Queen Anne</td>\n",
       "      <td>Queen Anne</td>\n",
       "      <td>NaN</td>\n",
       "      <td>100</td>\n",
       "      <td>1-100</td>\n",
       "      <td>60</td>\n",
       "      <td>51-60</td>\n",
       "    </tr>\n",
       "    <tr>\n",
       "      <th>4</th>\n",
       "      <td>278830</td>\n",
       "      <td>0</td>\n",
       "      <td>West Queen Anne</td>\n",
       "      <td>Queen Anne</td>\n",
       "      <td>9.0</td>\n",
       "      <td>450</td>\n",
       "      <td>401-500</td>\n",
       "      <td>0</td>\n",
       "      <td>NaN</td>\n",
       "    </tr>\n",
       "  </tbody>\n",
       "</table>\n",
       "</div>"
      ],
      "text/plain": [
       "   listing_id  profit neighbourhood_cleansed neighbourhood_group_cleansed  \\\n",
       "0      241032    1615        West Queen Anne                   Queen Anne   \n",
       "1      953595    7050        West Queen Anne                   Queen Anne   \n",
       "2     3308979   52650        West Queen Anne                   Queen Anne   \n",
       "3     7421966    6000        West Queen Anne                   Queen Anne   \n",
       "4      278830       0        West Queen Anne                   Queen Anne   \n",
       "\n",
       "   review_scores_location  price price_bins  num_bookings_60d  \\\n",
       "0                     9.0     85      1-100                19   \n",
       "1                    10.0    150    101-200                47   \n",
       "2                    10.0    975   901-1000                54   \n",
       "3                     NaN    100      1-100                60   \n",
       "4                     9.0    450    401-500                 0   \n",
       "\n",
       "  num_bookings_bins  \n",
       "0             11-20  \n",
       "1             41-50  \n",
       "2             51-60  \n",
       "3             51-60  \n",
       "4               NaN  "
      ]
     },
     "execution_count": 297,
     "metadata": {},
     "output_type": "execute_result"
    }
   ],
   "source": [
    "df_q3.head()"
   ]
  },
  {
   "cell_type": "code",
   "execution_count": 298,
   "metadata": {},
   "outputs": [
    {
     "data": {
      "text/plain": [
       "<pandas.core.groupby.generic.DataFrameGroupBy object at 0x1a2b32d710>"
      ]
     },
     "execution_count": 298,
     "metadata": {},
     "output_type": "execute_result"
    }
   ],
   "source": [
    "df_q3.groupby('neighbourhood_group_cleansed')"
   ]
  },
  {
   "cell_type": "code",
   "execution_count": 299,
   "metadata": {},
   "outputs": [],
   "source": [
    "x =df_q3.groupby('neighbourhood_group_cleansed')['num_bookings_60d']"
   ]
  },
  {
   "cell_type": "code",
   "execution_count": 300,
   "metadata": {},
   "outputs": [],
   "source": [
    "r = df_q3[df_q3['neighbourhood_group_cleansed']=='Queen Anne']"
   ]
  },
  {
   "cell_type": "code",
   "execution_count": 301,
   "metadata": {},
   "outputs": [
    {
     "data": {
      "text/plain": [
       "7948"
      ]
     },
     "execution_count": 301,
     "metadata": {},
     "output_type": "execute_result"
    }
   ],
   "source": [
    "r['num_bookings_60d'].sum()"
   ]
  },
  {
   "cell_type": "code",
   "execution_count": 302,
   "metadata": {},
   "outputs": [
    {
     "data": {
      "image/png": "[encoded data removed]",
      "text/plain": [
       "<Figure size 576x576 with 1 Axes>"
      ]
     },
     "metadata": {
      "needs_background": "light"
     },
     "output_type": "display_data"
    }
   ],
   "source": [
    "(df_q3.groupby('neighbourhood_group_cleansed')['num_bookings_60d'].sum().sort_values(ascending=False).head(10)).plot(kind='bar', color='darkblue',figsize=(8,8), fontsize=16);\n",
    "plt.xlabel(\"Neighborhood Group\");\n",
    "plt.ylabel(\"Number of Bookings\");\n",
    "plt.title(\"Number of Bookings per Neighborhood\");"
   ]
  },
  {
   "cell_type": "code",
   "execution_count": 303,
   "metadata": {},
   "outputs": [
    {
     "data": {
      "text/plain": [
       "7948"
      ]
     },
     "execution_count": 303,
     "metadata": {},
     "output_type": "execute_result"
    }
   ],
   "source": [
    "df_q3[df_q3['neighbourhood_group_cleansed']=='Queen Anne']['num_bookings_60d'].sum()"
   ]
  },
  {
   "cell_type": "code",
   "execution_count": 304,
   "metadata": {},
   "outputs": [
    {
     "data": {
      "image/png": "[encoded data removed]",
      "text/plain": [
       "<Figure size 576x576 with 1 Axes>"
      ]
     },
     "metadata": {
      "needs_background": "light"
     },
     "output_type": "display_data"
    }
   ],
   "source": [
    "(df_q3.groupby('neighbourhood_group_cleansed')['profit'].sum().sort_values(ascending=False).head(10)).plot(kind='bar',color='darkgreen' ,figsize=(8,8), fontsize=16);\n",
    "plt.xlabel(\"Neighborhood Group\");\n",
    "plt.ylabel(\"Profit ($)\");\n",
    "plt.title(\"Profit by Neighborhood\");"
   ]
  },
  {
   "cell_type": "markdown",
   "metadata": {},
   "source": [
    "### Insight 3: \"Other neighborhoods\" are booked most and attributed with most profit. <a name=\"insight3\"></a>\n",
    "It is interesting that these two graphs look nearly identical. The first place we see that there is a discrepency between the two is that the Central Area tends to be booked more than Queen Anne, but listings in Queen Anne neighborhoods make more profit than those in Central Area. "
   ]
  },
  {
   "cell_type": "markdown",
   "metadata": {},
   "source": [
    "_ _ _"
   ]
  },
  {
   "cell_type": "markdown",
   "metadata": {},
   "source": [
    "## Modeling<a name=\"modeling\"></a>\n",
    "I will use a Random Forest Regression to attempt to predict what airbnb listings factors are most highly correlated with highter profits. It should be noted that \"profit\" is definted as money to be made in the next 60 days. "
   ]
  },
  {
   "cell_type": "code",
   "execution_count": 273,
   "metadata": {},
   "outputs": [
    {
     "data": {
      "text/html": [
       "<div>\n",
       "<style scoped>\n",
       "    .dataframe tbody tr th:only-of-type {\n",
       "        vertical-align: middle;\n",
       "    }\n",
       "\n",
       "    .dataframe tbody tr th {\n",
       "        vertical-align: top;\n",
       "    }\n",
       "\n",
       "    .dataframe thead th {\n",
       "        text-align: right;\n",
       "    }\n",
       "</style>\n",
       "<table border=\"1\" class=\"dataframe\">\n",
       "  <thead>\n",
       "    <tr style=\"text-align: right;\">\n",
       "      <th></th>\n",
       "      <th>property_type</th>\n",
       "      <th>host_response_time</th>\n",
       "      <th>host_response_rate</th>\n",
       "      <th>host_is_superhost</th>\n",
       "      <th>host_identity_verified</th>\n",
       "      <th>host_total_listings_count</th>\n",
       "      <th>neighbourhood_group_cleansed</th>\n",
       "      <th>accommodates</th>\n",
       "      <th>bathrooms</th>\n",
       "      <th>bedrooms</th>\n",
       "      <th>...</th>\n",
       "      <th>availability_30</th>\n",
       "      <th>availability_60</th>\n",
       "      <th>availability_90</th>\n",
       "      <th>availability_365</th>\n",
       "      <th>number_of_reviews</th>\n",
       "      <th>review_scores_rating</th>\n",
       "      <th>instant_bookable</th>\n",
       "      <th>cancellation_policy</th>\n",
       "      <th>reviews_per_month</th>\n",
       "      <th>profit</th>\n",
       "    </tr>\n",
       "  </thead>\n",
       "  <tbody>\n",
       "    <tr>\n",
       "      <th>0</th>\n",
       "      <td>Apartment</td>\n",
       "      <td>within a few hours</td>\n",
       "      <td>96%</td>\n",
       "      <td>False</td>\n",
       "      <td>t</td>\n",
       "      <td>3.0</td>\n",
       "      <td>Queen Anne</td>\n",
       "      <td>4</td>\n",
       "      <td>1.0</td>\n",
       "      <td>1.0</td>\n",
       "      <td>...</td>\n",
       "      <td>14</td>\n",
       "      <td>41</td>\n",
       "      <td>71</td>\n",
       "      <td>346</td>\n",
       "      <td>207</td>\n",
       "      <td>95.0</td>\n",
       "      <td>f</td>\n",
       "      <td>moderate</td>\n",
       "      <td>4.07</td>\n",
       "      <td>1615</td>\n",
       "    </tr>\n",
       "    <tr>\n",
       "      <th>1</th>\n",
       "      <td>Apartment</td>\n",
       "      <td>within an hour</td>\n",
       "      <td>98%</td>\n",
       "      <td>True</td>\n",
       "      <td>t</td>\n",
       "      <td>6.0</td>\n",
       "      <td>Queen Anne</td>\n",
       "      <td>4</td>\n",
       "      <td>1.0</td>\n",
       "      <td>1.0</td>\n",
       "      <td>...</td>\n",
       "      <td>13</td>\n",
       "      <td>13</td>\n",
       "      <td>16</td>\n",
       "      <td>291</td>\n",
       "      <td>43</td>\n",
       "      <td>96.0</td>\n",
       "      <td>f</td>\n",
       "      <td>strict</td>\n",
       "      <td>1.48</td>\n",
       "      <td>7050</td>\n",
       "    </tr>\n",
       "    <tr>\n",
       "      <th>2</th>\n",
       "      <td>House</td>\n",
       "      <td>within a few hours</td>\n",
       "      <td>67%</td>\n",
       "      <td>False</td>\n",
       "      <td>t</td>\n",
       "      <td>2.0</td>\n",
       "      <td>Queen Anne</td>\n",
       "      <td>11</td>\n",
       "      <td>4.5</td>\n",
       "      <td>5.0</td>\n",
       "      <td>...</td>\n",
       "      <td>1</td>\n",
       "      <td>6</td>\n",
       "      <td>17</td>\n",
       "      <td>220</td>\n",
       "      <td>20</td>\n",
       "      <td>97.0</td>\n",
       "      <td>f</td>\n",
       "      <td>strict</td>\n",
       "      <td>1.15</td>\n",
       "      <td>52650</td>\n",
       "    </tr>\n",
       "    <tr>\n",
       "      <th>3</th>\n",
       "      <td>Apartment</td>\n",
       "      <td>NaN</td>\n",
       "      <td>NaN</td>\n",
       "      <td>False</td>\n",
       "      <td>t</td>\n",
       "      <td>1.0</td>\n",
       "      <td>Queen Anne</td>\n",
       "      <td>3</td>\n",
       "      <td>1.0</td>\n",
       "      <td>0.0</td>\n",
       "      <td>...</td>\n",
       "      <td>0</td>\n",
       "      <td>0</td>\n",
       "      <td>0</td>\n",
       "      <td>143</td>\n",
       "      <td>0</td>\n",
       "      <td>NaN</td>\n",
       "      <td>f</td>\n",
       "      <td>flexible</td>\n",
       "      <td>NaN</td>\n",
       "      <td>6000</td>\n",
       "    </tr>\n",
       "    <tr>\n",
       "      <th>4</th>\n",
       "      <td>House</td>\n",
       "      <td>within an hour</td>\n",
       "      <td>100%</td>\n",
       "      <td>False</td>\n",
       "      <td>t</td>\n",
       "      <td>2.0</td>\n",
       "      <td>Queen Anne</td>\n",
       "      <td>6</td>\n",
       "      <td>2.0</td>\n",
       "      <td>3.0</td>\n",
       "      <td>...</td>\n",
       "      <td>30</td>\n",
       "      <td>60</td>\n",
       "      <td>90</td>\n",
       "      <td>365</td>\n",
       "      <td>38</td>\n",
       "      <td>92.0</td>\n",
       "      <td>f</td>\n",
       "      <td>strict</td>\n",
       "      <td>0.89</td>\n",
       "      <td>0</td>\n",
       "    </tr>\n",
       "  </tbody>\n",
       "</table>\n",
       "<p>5 rows × 25 columns</p>\n",
       "</div>"
      ],
      "text/plain": [
       "  property_type  host_response_time host_response_rate host_is_superhost  \\\n",
       "0     Apartment  within a few hours                96%             False   \n",
       "1     Apartment      within an hour                98%              True   \n",
       "2         House  within a few hours                67%             False   \n",
       "3     Apartment                 NaN                NaN             False   \n",
       "4         House      within an hour               100%             False   \n",
       "\n",
       "  host_identity_verified  host_total_listings_count  \\\n",
       "0                      t                        3.0   \n",
       "1                      t                        6.0   \n",
       "2                      t                        2.0   \n",
       "3                      t                        1.0   \n",
       "4                      t                        2.0   \n",
       "\n",
       "  neighbourhood_group_cleansed  accommodates  bathrooms  bedrooms  ...  \\\n",
       "0                   Queen Anne             4        1.0       1.0  ...   \n",
       "1                   Queen Anne             4        1.0       1.0  ...   \n",
       "2                   Queen Anne            11        4.5       5.0  ...   \n",
       "3                   Queen Anne             3        1.0       0.0  ...   \n",
       "4                   Queen Anne             6        2.0       3.0  ...   \n",
       "\n",
       "   availability_30 availability_60  availability_90  availability_365  \\\n",
       "0               14              41               71               346   \n",
       "1               13              13               16               291   \n",
       "2                1               6               17               220   \n",
       "3                0               0                0               143   \n",
       "4               30              60               90               365   \n",
       "\n",
       "   number_of_reviews  review_scores_rating  instant_bookable  \\\n",
       "0                207                  95.0                 f   \n",
       "1                 43                  96.0                 f   \n",
       "2                 20                  97.0                 f   \n",
       "3                  0                   NaN                 f   \n",
       "4                 38                  92.0                 f   \n",
       "\n",
       "   cancellation_policy  reviews_per_month  profit  \n",
       "0             moderate               4.07    1615  \n",
       "1               strict               1.48    7050  \n",
       "2               strict               1.15   52650  \n",
       "3             flexible                NaN    6000  \n",
       "4               strict               0.89       0  \n",
       "\n",
       "[5 rows x 25 columns]"
      ]
     },
     "execution_count": 273,
     "metadata": {},
     "output_type": "execute_result"
    }
   ],
   "source": [
    "modeling_feats = ['property_type','host_response_time','host_response_rate','host_is_superhost', \n",
    "                  'host_identity_verified', 'host_total_listings_count','neighbourhood_group_cleansed',\n",
    "                  'accommodates','bathrooms', 'bedrooms', 'beds', 'bed_type','price','cleaning_fee',\n",
    "                  'minimum_nights','availability_30', 'availability_60', 'availability_90', 'availability_365', \n",
    "                  'number_of_reviews','review_scores_rating', 'instant_bookable',\n",
    "                  'cancellation_policy','reviews_per_month', 'profit']\n",
    "df_model = df[modeling_feats]\n",
    "df_model.head()"
   ]
  },
  {
   "cell_type": "code",
   "execution_count": 274,
   "metadata": {},
   "outputs": [
    {
     "name": "stderr",
     "output_type": "stream",
     "text": [
      "/Users/jessica.horvath@ibm.com/anaconda3/lib/python3.7/site-packages/ipykernel_launcher.py:1: SettingWithCopyWarning: \n",
      "A value is trying to be set on a copy of a slice from a DataFrame\n",
      "\n",
      "See the caveats in the documentation: http://pandas.pydata.org/pandas-docs/stable/indexing.html#indexing-view-versus-copy\n",
      "  \"\"\"Entry point for launching an IPython kernel.\n"
     ]
    }
   ],
   "source": [
    "df_model.dropna(inplace=True)"
   ]
  },
  {
   "cell_type": "code",
   "execution_count": 275,
   "metadata": {},
   "outputs": [],
   "source": [
    "## CLEANINGS STEPS\n",
    "\n",
    "def clean_data(df):\n",
    "    \"\"\"\n",
    "    Perform dropna, re-encoding and get dummies\n",
    "    \n",
    "    INPUT: listings DataFrame conatining only features to be modeled\n",
    "    OUTPUT: Cleaned DataFrame\n",
    "    \"\"\"\n",
    "    df = encode_instant_bookable(df)\n",
    "    df = encode_superhost(df)\n",
    "    df = encode_host_identity_verified(df)\n",
    "    df = encode_cancellation_policy(df)\n",
    "    df = encode_host_response_time(df)\n",
    "    df = resp_rate_to_int(df)\n",
    "  #  df = get_dums(df)\n",
    "    \n",
    "    return df\n",
    "\n",
    "def encode_instant_bookable(df):\n",
    "    df['instant_bookable'] = df['instant_bookable'].replace({'f': 0, 't': 1,})\n",
    "    return df\n",
    "\n",
    "def encode_superhost(df):\n",
    "    df['host_is_superhost'] = df['host_is_superhost'].replace({False: 0, True: 1,})\n",
    "    return df\n",
    "\n",
    "def encode_host_identity_verified(df):\n",
    "    df['host_identity_verified'] = df['host_identity_verified'].replace({'f': 0, 't': 1,})\n",
    "    return df\n",
    "\n",
    "def encode_cancellation_policy(df):\n",
    "    df['cancellation_policy'] = df['cancellation_policy'].replace({'strict': 0, \n",
    "                                                                   'moderate': 1,\n",
    "                                                                   'flexible': 2})\n",
    "    return df\n",
    "\n",
    "def encode_host_response_time(df):\n",
    "    df['host_response_time'] = df['host_response_time'].replace({'within a few hours': 0, \n",
    "                                                           'within an hour': 1,\n",
    "                                                           'within a day': 2,\n",
    "                                                           'a few days or more': 3})\n",
    "    return df\n",
    "\n",
    "def resp_rate_to_int(df):\n",
    "    df['host_response_rate'] = df['host_response_rate'].str.rstrip('%')\n",
    "    df['host_response_rate'] = df['host_response_rate'].astype(int)\n",
    "    return df\n",
    "\n",
    "def get_dums(df):\n",
    "    #feats_to_OHE = ['property_type', 'neighbourhood_group_cleansed','bed_type']\n",
    "    df = pd.get_dummies(df)\n",
    "    return df\n"
   ]
  },
  {
   "cell_type": "code",
   "execution_count": 276,
   "metadata": {},
   "outputs": [
    {
     "name": "stderr",
     "output_type": "stream",
     "text": [
      "/Users/jessica.horvath@ibm.com/anaconda3/lib/python3.7/site-packages/ipykernel_launcher.py:21: SettingWithCopyWarning: \n",
      "A value is trying to be set on a copy of a slice from a DataFrame.\n",
      "Try using .loc[row_indexer,col_indexer] = value instead\n",
      "\n",
      "See the caveats in the documentation: http://pandas.pydata.org/pandas-docs/stable/indexing.html#indexing-view-versus-copy\n",
      "/Users/jessica.horvath@ibm.com/anaconda3/lib/python3.7/site-packages/ipykernel_launcher.py:25: SettingWithCopyWarning: \n",
      "A value is trying to be set on a copy of a slice from a DataFrame.\n",
      "Try using .loc[row_indexer,col_indexer] = value instead\n",
      "\n",
      "See the caveats in the documentation: http://pandas.pydata.org/pandas-docs/stable/indexing.html#indexing-view-versus-copy\n",
      "/Users/jessica.horvath@ibm.com/anaconda3/lib/python3.7/site-packages/ipykernel_launcher.py:29: SettingWithCopyWarning: \n",
      "A value is trying to be set on a copy of a slice from a DataFrame.\n",
      "Try using .loc[row_indexer,col_indexer] = value instead\n",
      "\n",
      "See the caveats in the documentation: http://pandas.pydata.org/pandas-docs/stable/indexing.html#indexing-view-versus-copy\n",
      "/Users/jessica.horvath@ibm.com/anaconda3/lib/python3.7/site-packages/ipykernel_launcher.py:35: SettingWithCopyWarning: \n",
      "A value is trying to be set on a copy of a slice from a DataFrame.\n",
      "Try using .loc[row_indexer,col_indexer] = value instead\n",
      "\n",
      "See the caveats in the documentation: http://pandas.pydata.org/pandas-docs/stable/indexing.html#indexing-view-versus-copy\n",
      "/Users/jessica.horvath@ibm.com/anaconda3/lib/python3.7/site-packages/ipykernel_launcher.py:42: SettingWithCopyWarning: \n",
      "A value is trying to be set on a copy of a slice from a DataFrame.\n",
      "Try using .loc[row_indexer,col_indexer] = value instead\n",
      "\n",
      "See the caveats in the documentation: http://pandas.pydata.org/pandas-docs/stable/indexing.html#indexing-view-versus-copy\n",
      "/Users/jessica.horvath@ibm.com/anaconda3/lib/python3.7/site-packages/ipykernel_launcher.py:46: SettingWithCopyWarning: \n",
      "A value is trying to be set on a copy of a slice from a DataFrame.\n",
      "Try using .loc[row_indexer,col_indexer] = value instead\n",
      "\n",
      "See the caveats in the documentation: http://pandas.pydata.org/pandas-docs/stable/indexing.html#indexing-view-versus-copy\n",
      "/Users/jessica.horvath@ibm.com/anaconda3/lib/python3.7/site-packages/ipykernel_launcher.py:47: SettingWithCopyWarning: \n",
      "A value is trying to be set on a copy of a slice from a DataFrame.\n",
      "Try using .loc[row_indexer,col_indexer] = value instead\n",
      "\n",
      "See the caveats in the documentation: http://pandas.pydata.org/pandas-docs/stable/indexing.html#indexing-view-versus-copy\n"
     ]
    }
   ],
   "source": [
    "df_model = clean_data(df_model);"
   ]
  },
  {
   "cell_type": "code",
   "execution_count": 277,
   "metadata": {},
   "outputs": [
    {
     "data": {
      "text/html": [
       "<div>\n",
       "<style scoped>\n",
       "    .dataframe tbody tr th:only-of-type {\n",
       "        vertical-align: middle;\n",
       "    }\n",
       "\n",
       "    .dataframe tbody tr th {\n",
       "        vertical-align: top;\n",
       "    }\n",
       "\n",
       "    .dataframe thead th {\n",
       "        text-align: right;\n",
       "    }\n",
       "</style>\n",
       "<table border=\"1\" class=\"dataframe\">\n",
       "  <thead>\n",
       "    <tr style=\"text-align: right;\">\n",
       "      <th></th>\n",
       "      <th>property_type</th>\n",
       "      <th>host_response_time</th>\n",
       "      <th>host_response_rate</th>\n",
       "      <th>host_is_superhost</th>\n",
       "      <th>host_identity_verified</th>\n",
       "      <th>host_total_listings_count</th>\n",
       "      <th>neighbourhood_group_cleansed</th>\n",
       "      <th>accommodates</th>\n",
       "      <th>bathrooms</th>\n",
       "      <th>bedrooms</th>\n",
       "      <th>...</th>\n",
       "      <th>availability_30</th>\n",
       "      <th>availability_60</th>\n",
       "      <th>availability_90</th>\n",
       "      <th>availability_365</th>\n",
       "      <th>number_of_reviews</th>\n",
       "      <th>review_scores_rating</th>\n",
       "      <th>instant_bookable</th>\n",
       "      <th>cancellation_policy</th>\n",
       "      <th>reviews_per_month</th>\n",
       "      <th>profit</th>\n",
       "    </tr>\n",
       "  </thead>\n",
       "  <tbody>\n",
       "    <tr>\n",
       "      <th>1</th>\n",
       "      <td>Apartment</td>\n",
       "      <td>1</td>\n",
       "      <td>98</td>\n",
       "      <td>1</td>\n",
       "      <td>1</td>\n",
       "      <td>6.0</td>\n",
       "      <td>Queen Anne</td>\n",
       "      <td>4</td>\n",
       "      <td>1.0</td>\n",
       "      <td>1.0</td>\n",
       "      <td>...</td>\n",
       "      <td>13</td>\n",
       "      <td>13</td>\n",
       "      <td>16</td>\n",
       "      <td>291</td>\n",
       "      <td>43</td>\n",
       "      <td>96.0</td>\n",
       "      <td>0</td>\n",
       "      <td>0</td>\n",
       "      <td>1.48</td>\n",
       "      <td>7050</td>\n",
       "    </tr>\n",
       "    <tr>\n",
       "      <th>2</th>\n",
       "      <td>House</td>\n",
       "      <td>0</td>\n",
       "      <td>67</td>\n",
       "      <td>0</td>\n",
       "      <td>1</td>\n",
       "      <td>2.0</td>\n",
       "      <td>Queen Anne</td>\n",
       "      <td>11</td>\n",
       "      <td>4.5</td>\n",
       "      <td>5.0</td>\n",
       "      <td>...</td>\n",
       "      <td>1</td>\n",
       "      <td>6</td>\n",
       "      <td>17</td>\n",
       "      <td>220</td>\n",
       "      <td>20</td>\n",
       "      <td>97.0</td>\n",
       "      <td>0</td>\n",
       "      <td>0</td>\n",
       "      <td>1.15</td>\n",
       "      <td>52650</td>\n",
       "    </tr>\n",
       "    <tr>\n",
       "      <th>4</th>\n",
       "      <td>House</td>\n",
       "      <td>1</td>\n",
       "      <td>100</td>\n",
       "      <td>0</td>\n",
       "      <td>1</td>\n",
       "      <td>2.0</td>\n",
       "      <td>Queen Anne</td>\n",
       "      <td>6</td>\n",
       "      <td>2.0</td>\n",
       "      <td>3.0</td>\n",
       "      <td>...</td>\n",
       "      <td>30</td>\n",
       "      <td>60</td>\n",
       "      <td>90</td>\n",
       "      <td>365</td>\n",
       "      <td>38</td>\n",
       "      <td>92.0</td>\n",
       "      <td>0</td>\n",
       "      <td>0</td>\n",
       "      <td>0.89</td>\n",
       "      <td>0</td>\n",
       "    </tr>\n",
       "    <tr>\n",
       "      <th>7</th>\n",
       "      <td>Cabin</td>\n",
       "      <td>1</td>\n",
       "      <td>100</td>\n",
       "      <td>1</td>\n",
       "      <td>1</td>\n",
       "      <td>5.0</td>\n",
       "      <td>Queen Anne</td>\n",
       "      <td>2</td>\n",
       "      <td>1.0</td>\n",
       "      <td>1.0</td>\n",
       "      <td>...</td>\n",
       "      <td>22</td>\n",
       "      <td>42</td>\n",
       "      <td>42</td>\n",
       "      <td>100</td>\n",
       "      <td>173</td>\n",
       "      <td>97.0</td>\n",
       "      <td>0</td>\n",
       "      <td>0</td>\n",
       "      <td>4.73</td>\n",
       "      <td>1080</td>\n",
       "    </tr>\n",
       "    <tr>\n",
       "      <th>9</th>\n",
       "      <td>Apartment</td>\n",
       "      <td>1</td>\n",
       "      <td>98</td>\n",
       "      <td>1</td>\n",
       "      <td>1</td>\n",
       "      <td>6.0</td>\n",
       "      <td>Queen Anne</td>\n",
       "      <td>4</td>\n",
       "      <td>1.0</td>\n",
       "      <td>1.0</td>\n",
       "      <td>...</td>\n",
       "      <td>6</td>\n",
       "      <td>19</td>\n",
       "      <td>49</td>\n",
       "      <td>324</td>\n",
       "      <td>32</td>\n",
       "      <td>97.0</td>\n",
       "      <td>0</td>\n",
       "      <td>0</td>\n",
       "      <td>1.55</td>\n",
       "      <td>6150</td>\n",
       "    </tr>\n",
       "  </tbody>\n",
       "</table>\n",
       "<p>5 rows × 25 columns</p>\n",
       "</div>"
      ],
      "text/plain": [
       "  property_type  host_response_time  host_response_rate  host_is_superhost  \\\n",
       "1     Apartment                   1                  98                  1   \n",
       "2         House                   0                  67                  0   \n",
       "4         House                   1                 100                  0   \n",
       "7         Cabin                   1                 100                  1   \n",
       "9     Apartment                   1                  98                  1   \n",
       "\n",
       "   host_identity_verified  host_total_listings_count  \\\n",
       "1                       1                        6.0   \n",
       "2                       1                        2.0   \n",
       "4                       1                        2.0   \n",
       "7                       1                        5.0   \n",
       "9                       1                        6.0   \n",
       "\n",
       "  neighbourhood_group_cleansed  accommodates  bathrooms  bedrooms  ...  \\\n",
       "1                   Queen Anne             4        1.0       1.0  ...   \n",
       "2                   Queen Anne            11        4.5       5.0  ...   \n",
       "4                   Queen Anne             6        2.0       3.0  ...   \n",
       "7                   Queen Anne             2        1.0       1.0  ...   \n",
       "9                   Queen Anne             4        1.0       1.0  ...   \n",
       "\n",
       "   availability_30 availability_60  availability_90  availability_365  \\\n",
       "1               13              13               16               291   \n",
       "2                1               6               17               220   \n",
       "4               30              60               90               365   \n",
       "7               22              42               42               100   \n",
       "9                6              19               49               324   \n",
       "\n",
       "   number_of_reviews  review_scores_rating  instant_bookable  \\\n",
       "1                 43                  96.0                 0   \n",
       "2                 20                  97.0                 0   \n",
       "4                 38                  92.0                 0   \n",
       "7                173                  97.0                 0   \n",
       "9                 32                  97.0                 0   \n",
       "\n",
       "   cancellation_policy  reviews_per_month  profit  \n",
       "1                    0               1.48    7050  \n",
       "2                    0               1.15   52650  \n",
       "4                    0               0.89       0  \n",
       "7                    0               4.73    1080  \n",
       "9                    0               1.55    6150  \n",
       "\n",
       "[5 rows x 25 columns]"
      ]
     },
     "execution_count": 277,
     "metadata": {},
     "output_type": "execute_result"
    }
   ],
   "source": [
    "df_model.head()"
   ]
  },
  {
   "cell_type": "code",
   "execution_count": 278,
   "metadata": {},
   "outputs": [],
   "source": [
    "# Split the data into features and target label\n",
    "profit_raw = df_model['profit']\n",
    "features_raw = df_model.drop('profit', axis = 1)"
   ]
  },
  {
   "cell_type": "code",
   "execution_count": 279,
   "metadata": {},
   "outputs": [
    {
     "data": {
      "text/plain": [
       "property_type                    object\n",
       "host_response_time                int64\n",
       "host_response_rate                int64\n",
       "host_is_superhost                 int64\n",
       "host_identity_verified            int64\n",
       "host_total_listings_count       float64\n",
       "neighbourhood_group_cleansed     object\n",
       "accommodates                      int64\n",
       "bathrooms                       float64\n",
       "bedrooms                        float64\n",
       "beds                            float64\n",
       "bed_type                         object\n",
       "price                             int64\n",
       "cleaning_fee                    float64\n",
       "minimum_nights                    int64\n",
       "availability_30                   int64\n",
       "availability_60                   int64\n",
       "availability_90                   int64\n",
       "availability_365                  int64\n",
       "number_of_reviews                 int64\n",
       "review_scores_rating            float64\n",
       "instant_bookable                  int64\n",
       "cancellation_policy               int64\n",
       "reviews_per_month               float64\n",
       "dtype: object"
      ]
     },
     "execution_count": 279,
     "metadata": {},
     "output_type": "execute_result"
    }
   ],
   "source": [
    "features_raw.dtypes"
   ]
  },
  {
   "cell_type": "code",
   "execution_count": 269,
   "metadata": {},
   "outputs": [
    {
     "data": {
      "text/html": [
       "<div>\n",
       "<style scoped>\n",
       "    .dataframe tbody tr th:only-of-type {\n",
       "        vertical-align: middle;\n",
       "    }\n",
       "\n",
       "    .dataframe tbody tr th {\n",
       "        vertical-align: top;\n",
       "    }\n",
       "\n",
       "    .dataframe thead th {\n",
       "        text-align: right;\n",
       "    }\n",
       "</style>\n",
       "<table border=\"1\" class=\"dataframe\">\n",
       "  <thead>\n",
       "    <tr style=\"text-align: right;\">\n",
       "      <th></th>\n",
       "      <th>property_type</th>\n",
       "      <th>host_response_time</th>\n",
       "      <th>host_response_rate</th>\n",
       "      <th>host_is_superhost</th>\n",
       "      <th>host_identity_verified</th>\n",
       "      <th>host_total_listings_count</th>\n",
       "      <th>neighbourhood_group_cleansed</th>\n",
       "      <th>accommodates</th>\n",
       "      <th>bathrooms</th>\n",
       "      <th>bedrooms</th>\n",
       "      <th>...</th>\n",
       "      <th>minimum_nights</th>\n",
       "      <th>availability_30</th>\n",
       "      <th>availability_60</th>\n",
       "      <th>availability_90</th>\n",
       "      <th>availability_365</th>\n",
       "      <th>number_of_reviews</th>\n",
       "      <th>review_scores_rating</th>\n",
       "      <th>instant_bookable</th>\n",
       "      <th>cancellation_policy</th>\n",
       "      <th>reviews_per_month</th>\n",
       "    </tr>\n",
       "  </thead>\n",
       "  <tbody>\n",
       "    <tr>\n",
       "      <th>1</th>\n",
       "      <td>Apartment</td>\n",
       "      <td>1</td>\n",
       "      <td>98</td>\n",
       "      <td>True</td>\n",
       "      <td>1</td>\n",
       "      <td>6.0</td>\n",
       "      <td>Queen Anne</td>\n",
       "      <td>4</td>\n",
       "      <td>1.0</td>\n",
       "      <td>1.0</td>\n",
       "      <td>...</td>\n",
       "      <td>2</td>\n",
       "      <td>13</td>\n",
       "      <td>13</td>\n",
       "      <td>16</td>\n",
       "      <td>291</td>\n",
       "      <td>43</td>\n",
       "      <td>96.0</td>\n",
       "      <td>0</td>\n",
       "      <td>0</td>\n",
       "      <td>1.48</td>\n",
       "    </tr>\n",
       "    <tr>\n",
       "      <th>2</th>\n",
       "      <td>House</td>\n",
       "      <td>0</td>\n",
       "      <td>67</td>\n",
       "      <td>False</td>\n",
       "      <td>1</td>\n",
       "      <td>2.0</td>\n",
       "      <td>Queen Anne</td>\n",
       "      <td>11</td>\n",
       "      <td>4.5</td>\n",
       "      <td>5.0</td>\n",
       "      <td>...</td>\n",
       "      <td>4</td>\n",
       "      <td>1</td>\n",
       "      <td>6</td>\n",
       "      <td>17</td>\n",
       "      <td>220</td>\n",
       "      <td>20</td>\n",
       "      <td>97.0</td>\n",
       "      <td>0</td>\n",
       "      <td>0</td>\n",
       "      <td>1.15</td>\n",
       "    </tr>\n",
       "    <tr>\n",
       "      <th>4</th>\n",
       "      <td>House</td>\n",
       "      <td>1</td>\n",
       "      <td>100</td>\n",
       "      <td>False</td>\n",
       "      <td>1</td>\n",
       "      <td>2.0</td>\n",
       "      <td>Queen Anne</td>\n",
       "      <td>6</td>\n",
       "      <td>2.0</td>\n",
       "      <td>3.0</td>\n",
       "      <td>...</td>\n",
       "      <td>1</td>\n",
       "      <td>30</td>\n",
       "      <td>60</td>\n",
       "      <td>90</td>\n",
       "      <td>365</td>\n",
       "      <td>38</td>\n",
       "      <td>92.0</td>\n",
       "      <td>0</td>\n",
       "      <td>0</td>\n",
       "      <td>0.89</td>\n",
       "    </tr>\n",
       "    <tr>\n",
       "      <th>7</th>\n",
       "      <td>Cabin</td>\n",
       "      <td>1</td>\n",
       "      <td>100</td>\n",
       "      <td>True</td>\n",
       "      <td>1</td>\n",
       "      <td>5.0</td>\n",
       "      <td>Queen Anne</td>\n",
       "      <td>2</td>\n",
       "      <td>1.0</td>\n",
       "      <td>1.0</td>\n",
       "      <td>...</td>\n",
       "      <td>2</td>\n",
       "      <td>22</td>\n",
       "      <td>42</td>\n",
       "      <td>42</td>\n",
       "      <td>100</td>\n",
       "      <td>173</td>\n",
       "      <td>97.0</td>\n",
       "      <td>0</td>\n",
       "      <td>0</td>\n",
       "      <td>4.73</td>\n",
       "    </tr>\n",
       "    <tr>\n",
       "      <th>9</th>\n",
       "      <td>Apartment</td>\n",
       "      <td>1</td>\n",
       "      <td>98</td>\n",
       "      <td>True</td>\n",
       "      <td>1</td>\n",
       "      <td>6.0</td>\n",
       "      <td>Queen Anne</td>\n",
       "      <td>4</td>\n",
       "      <td>1.0</td>\n",
       "      <td>1.0</td>\n",
       "      <td>...</td>\n",
       "      <td>2</td>\n",
       "      <td>6</td>\n",
       "      <td>19</td>\n",
       "      <td>49</td>\n",
       "      <td>324</td>\n",
       "      <td>32</td>\n",
       "      <td>97.0</td>\n",
       "      <td>0</td>\n",
       "      <td>0</td>\n",
       "      <td>1.55</td>\n",
       "    </tr>\n",
       "  </tbody>\n",
       "</table>\n",
       "<p>5 rows × 24 columns</p>\n",
       "</div>"
      ],
      "text/plain": [
       "  property_type  host_response_time  host_response_rate host_is_superhost  \\\n",
       "1     Apartment                   1                  98              True   \n",
       "2         House                   0                  67             False   \n",
       "4         House                   1                 100             False   \n",
       "7         Cabin                   1                 100              True   \n",
       "9     Apartment                   1                  98              True   \n",
       "\n",
       "   host_identity_verified  host_total_listings_count  \\\n",
       "1                       1                        6.0   \n",
       "2                       1                        2.0   \n",
       "4                       1                        2.0   \n",
       "7                       1                        5.0   \n",
       "9                       1                        6.0   \n",
       "\n",
       "  neighbourhood_group_cleansed  accommodates  bathrooms  bedrooms  ...  \\\n",
       "1                   Queen Anne             4        1.0       1.0  ...   \n",
       "2                   Queen Anne            11        4.5       5.0  ...   \n",
       "4                   Queen Anne             6        2.0       3.0  ...   \n",
       "7                   Queen Anne             2        1.0       1.0  ...   \n",
       "9                   Queen Anne             4        1.0       1.0  ...   \n",
       "\n",
       "   minimum_nights availability_30  availability_60  availability_90  \\\n",
       "1               2              13               13               16   \n",
       "2               4               1                6               17   \n",
       "4               1              30               60               90   \n",
       "7               2              22               42               42   \n",
       "9               2               6               19               49   \n",
       "\n",
       "   availability_365  number_of_reviews  review_scores_rating  \\\n",
       "1               291                 43                  96.0   \n",
       "2               220                 20                  97.0   \n",
       "4               365                 38                  92.0   \n",
       "7               100                173                  97.0   \n",
       "9               324                 32                  97.0   \n",
       "\n",
       "   instant_bookable  cancellation_policy  reviews_per_month  \n",
       "1                 0                    0               1.48  \n",
       "2                 0                    0               1.15  \n",
       "4                 0                    0               0.89  \n",
       "7                 0                    0               4.73  \n",
       "9                 0                    0               1.55  \n",
       "\n",
       "[5 rows x 24 columns]"
      ]
     },
     "execution_count": 269,
     "metadata": {},
     "output_type": "execute_result"
    }
   ],
   "source": [
    "features_raw.head()"
   ]
  },
  {
   "cell_type": "code",
   "execution_count": 280,
   "metadata": {},
   "outputs": [],
   "source": [
    "numerical_feats = ['host_response_time', 'host_response_rate','host_is_superhost','host_identity_verified', \n",
    "                   'host_total_listings_count','accommodates', 'bathrooms', 'bedrooms', \n",
    "                   'beds', 'price', 'cleaning_fee', 'minimum_nights', 'availability_30', 'availability_60', \n",
    "                   'availability_90', 'availability_365', 'number_of_reviews', 'review_scores_rating', \n",
    "                   'instant_bookable', 'cancellation_policy', 'reviews_per_month']"
   ]
  },
  {
   "cell_type": "code",
   "execution_count": 281,
   "metadata": {},
   "outputs": [],
   "source": [
    "feats_to_ohe = ['property_type', 'neighbourhood_group_cleansed','bed_type']"
   ]
  },
  {
   "cell_type": "code",
   "execution_count": 282,
   "metadata": {},
   "outputs": [],
   "source": [
    "features_log_transformed = pd.DataFrame(data = features_raw)"
   ]
  },
  {
   "cell_type": "code",
   "execution_count": 283,
   "metadata": {},
   "outputs": [
    {
     "data": {
      "text/html": [
       "<div>\n",
       "<style scoped>\n",
       "    .dataframe tbody tr th:only-of-type {\n",
       "        vertical-align: middle;\n",
       "    }\n",
       "\n",
       "    .dataframe tbody tr th {\n",
       "        vertical-align: top;\n",
       "    }\n",
       "\n",
       "    .dataframe thead th {\n",
       "        text-align: right;\n",
       "    }\n",
       "</style>\n",
       "<table border=\"1\" class=\"dataframe\">\n",
       "  <thead>\n",
       "    <tr style=\"text-align: right;\">\n",
       "      <th></th>\n",
       "      <th>property_type</th>\n",
       "      <th>host_response_time</th>\n",
       "      <th>host_response_rate</th>\n",
       "      <th>host_is_superhost</th>\n",
       "      <th>host_identity_verified</th>\n",
       "      <th>host_total_listings_count</th>\n",
       "      <th>neighbourhood_group_cleansed</th>\n",
       "      <th>accommodates</th>\n",
       "      <th>bathrooms</th>\n",
       "      <th>bedrooms</th>\n",
       "      <th>...</th>\n",
       "      <th>minimum_nights</th>\n",
       "      <th>availability_30</th>\n",
       "      <th>availability_60</th>\n",
       "      <th>availability_90</th>\n",
       "      <th>availability_365</th>\n",
       "      <th>number_of_reviews</th>\n",
       "      <th>review_scores_rating</th>\n",
       "      <th>instant_bookable</th>\n",
       "      <th>cancellation_policy</th>\n",
       "      <th>reviews_per_month</th>\n",
       "    </tr>\n",
       "  </thead>\n",
       "  <tbody>\n",
       "    <tr>\n",
       "      <th>1</th>\n",
       "      <td>Apartment</td>\n",
       "      <td>0.333333</td>\n",
       "      <td>0.975904</td>\n",
       "      <td>1.0</td>\n",
       "      <td>1.0</td>\n",
       "      <td>0.009980</td>\n",
       "      <td>Queen Anne</td>\n",
       "      <td>0.200000</td>\n",
       "      <td>0.222222</td>\n",
       "      <td>0.142857</td>\n",
       "      <td>...</td>\n",
       "      <td>0.001001</td>\n",
       "      <td>0.433333</td>\n",
       "      <td>0.216667</td>\n",
       "      <td>0.177778</td>\n",
       "      <td>0.797260</td>\n",
       "      <td>0.104218</td>\n",
       "      <td>0.9500</td>\n",
       "      <td>0.0</td>\n",
       "      <td>0.0</td>\n",
       "      <td>0.132058</td>\n",
       "    </tr>\n",
       "    <tr>\n",
       "      <th>2</th>\n",
       "      <td>House</td>\n",
       "      <td>0.000000</td>\n",
       "      <td>0.602410</td>\n",
       "      <td>0.0</td>\n",
       "      <td>1.0</td>\n",
       "      <td>0.001996</td>\n",
       "      <td>Queen Anne</td>\n",
       "      <td>0.666667</td>\n",
       "      <td>1.000000</td>\n",
       "      <td>0.714286</td>\n",
       "      <td>...</td>\n",
       "      <td>0.003003</td>\n",
       "      <td>0.033333</td>\n",
       "      <td>0.100000</td>\n",
       "      <td>0.188889</td>\n",
       "      <td>0.602740</td>\n",
       "      <td>0.047146</td>\n",
       "      <td>0.9625</td>\n",
       "      <td>0.0</td>\n",
       "      <td>0.0</td>\n",
       "      <td>0.102004</td>\n",
       "    </tr>\n",
       "    <tr>\n",
       "      <th>4</th>\n",
       "      <td>House</td>\n",
       "      <td>0.333333</td>\n",
       "      <td>1.000000</td>\n",
       "      <td>0.0</td>\n",
       "      <td>1.0</td>\n",
       "      <td>0.001996</td>\n",
       "      <td>Queen Anne</td>\n",
       "      <td>0.333333</td>\n",
       "      <td>0.444444</td>\n",
       "      <td>0.428571</td>\n",
       "      <td>...</td>\n",
       "      <td>0.000000</td>\n",
       "      <td>1.000000</td>\n",
       "      <td>1.000000</td>\n",
       "      <td>1.000000</td>\n",
       "      <td>1.000000</td>\n",
       "      <td>0.091811</td>\n",
       "      <td>0.9000</td>\n",
       "      <td>0.0</td>\n",
       "      <td>0.0</td>\n",
       "      <td>0.078324</td>\n",
       "    </tr>\n",
       "    <tr>\n",
       "      <th>7</th>\n",
       "      <td>Cabin</td>\n",
       "      <td>0.333333</td>\n",
       "      <td>1.000000</td>\n",
       "      <td>1.0</td>\n",
       "      <td>1.0</td>\n",
       "      <td>0.007984</td>\n",
       "      <td>Queen Anne</td>\n",
       "      <td>0.066667</td>\n",
       "      <td>0.222222</td>\n",
       "      <td>0.142857</td>\n",
       "      <td>...</td>\n",
       "      <td>0.001001</td>\n",
       "      <td>0.733333</td>\n",
       "      <td>0.700000</td>\n",
       "      <td>0.466667</td>\n",
       "      <td>0.273973</td>\n",
       "      <td>0.426799</td>\n",
       "      <td>0.9625</td>\n",
       "      <td>0.0</td>\n",
       "      <td>0.0</td>\n",
       "      <td>0.428051</td>\n",
       "    </tr>\n",
       "    <tr>\n",
       "      <th>9</th>\n",
       "      <td>Apartment</td>\n",
       "      <td>0.333333</td>\n",
       "      <td>0.975904</td>\n",
       "      <td>1.0</td>\n",
       "      <td>1.0</td>\n",
       "      <td>0.009980</td>\n",
       "      <td>Queen Anne</td>\n",
       "      <td>0.200000</td>\n",
       "      <td>0.222222</td>\n",
       "      <td>0.142857</td>\n",
       "      <td>...</td>\n",
       "      <td>0.001001</td>\n",
       "      <td>0.200000</td>\n",
       "      <td>0.316667</td>\n",
       "      <td>0.544444</td>\n",
       "      <td>0.887671</td>\n",
       "      <td>0.076923</td>\n",
       "      <td>0.9625</td>\n",
       "      <td>0.0</td>\n",
       "      <td>0.0</td>\n",
       "      <td>0.138434</td>\n",
       "    </tr>\n",
       "  </tbody>\n",
       "</table>\n",
       "<p>5 rows × 24 columns</p>\n",
       "</div>"
      ],
      "text/plain": [
       "  property_type  host_response_time  host_response_rate  host_is_superhost  \\\n",
       "1     Apartment            0.333333            0.975904                1.0   \n",
       "2         House            0.000000            0.602410                0.0   \n",
       "4         House            0.333333            1.000000                0.0   \n",
       "7         Cabin            0.333333            1.000000                1.0   \n",
       "9     Apartment            0.333333            0.975904                1.0   \n",
       "\n",
       "   host_identity_verified  host_total_listings_count  \\\n",
       "1                     1.0                   0.009980   \n",
       "2                     1.0                   0.001996   \n",
       "4                     1.0                   0.001996   \n",
       "7                     1.0                   0.007984   \n",
       "9                     1.0                   0.009980   \n",
       "\n",
       "  neighbourhood_group_cleansed  accommodates  bathrooms  bedrooms  ...  \\\n",
       "1                   Queen Anne      0.200000   0.222222  0.142857  ...   \n",
       "2                   Queen Anne      0.666667   1.000000  0.714286  ...   \n",
       "4                   Queen Anne      0.333333   0.444444  0.428571  ...   \n",
       "7                   Queen Anne      0.066667   0.222222  0.142857  ...   \n",
       "9                   Queen Anne      0.200000   0.222222  0.142857  ...   \n",
       "\n",
       "   minimum_nights availability_30  availability_60  availability_90  \\\n",
       "1        0.001001        0.433333         0.216667         0.177778   \n",
       "2        0.003003        0.033333         0.100000         0.188889   \n",
       "4        0.000000        1.000000         1.000000         1.000000   \n",
       "7        0.001001        0.733333         0.700000         0.466667   \n",
       "9        0.001001        0.200000         0.316667         0.544444   \n",
       "\n",
       "   availability_365  number_of_reviews  review_scores_rating  \\\n",
       "1          0.797260           0.104218                0.9500   \n",
       "2          0.602740           0.047146                0.9625   \n",
       "4          1.000000           0.091811                0.9000   \n",
       "7          0.273973           0.426799                0.9625   \n",
       "9          0.887671           0.076923                0.9625   \n",
       "\n",
       "   instant_bookable  cancellation_policy  reviews_per_month  \n",
       "1               0.0                  0.0           0.132058  \n",
       "2               0.0                  0.0           0.102004  \n",
       "4               0.0                  0.0           0.078324  \n",
       "7               0.0                  0.0           0.428051  \n",
       "9               0.0                  0.0           0.138434  \n",
       "\n",
       "[5 rows x 24 columns]"
      ]
     },
     "metadata": {},
     "output_type": "display_data"
    }
   ],
   "source": [
    "## Normalizing numerical features\n",
    "# Initialize a scaler, then apply it to the features\n",
    "scaler = MinMaxScaler() # default=(0, 1)\n",
    "numerical = numerical_feats\n",
    "\n",
    "features_log_minmax_transform = pd.DataFrame(data = features_log_transformed)\n",
    "features_log_minmax_transform[numerical] = scaler.fit_transform(features_log_transformed[numerical])\n",
    "\n",
    "# Show an example of a record with scaling applied\n",
    "display(features_log_minmax_transform.head(n = 5))"
   ]
  },
  {
   "cell_type": "code",
   "execution_count": 284,
   "metadata": {},
   "outputs": [
    {
     "name": "stdout",
     "output_type": "stream",
     "text": [
      "57 total features after one-hot encoding.\n"
     ]
    }
   ],
   "source": [
    "# TODO: One-hot encode the 'features_log_minmax_transform' data using pandas.get_dummies()\n",
    "features_final = pd.get_dummies(features_log_minmax_transform)\n",
    "\n",
    "# Print the number of features after one-hot encoding\n",
    "encoded = list(features_final.columns)\n",
    "print(\"{} total features after one-hot encoding.\".format(len(encoded)))"
   ]
  },
  {
   "cell_type": "code",
   "execution_count": 285,
   "metadata": {},
   "outputs": [
    {
     "name": "stdout",
     "output_type": "stream",
     "text": [
      "Training set has 1747 samples.\n",
      "Testing set has 437 samples.\n"
     ]
    }
   ],
   "source": [
    "# Split the 'features' and 'profit' data into training and testing sets\n",
    "X_train, X_test, y_train, y_test = train_test_split(features_final, \n",
    "                                                    profit_raw, \n",
    "                                                    test_size = 0.2, \n",
    "                                                    random_state = 0)\n",
    "\n",
    "# Show the results of the split\n",
    "print(\"Training set has {} samples.\".format(X_train.shape[0]))\n",
    "print(\"Testing set has {} samples.\".format(X_test.shape[0]))"
   ]
  },
  {
   "cell_type": "code",
   "execution_count": 286,
   "metadata": {},
   "outputs": [],
   "source": [
    "feats= features_final.columns"
   ]
  },
  {
   "cell_type": "code",
   "execution_count": 287,
   "metadata": {},
   "outputs": [
    {
     "data": {
      "image/png": "[encoded data removed]",
      "text/plain": [
       "<Figure size 864x864 with 2 Axes>"
      ]
     },
     "metadata": {
      "needs_background": "light"
     },
     "output_type": "display_data"
    }
   ],
   "source": [
    "## Check correlation matrix\n",
    "\n",
    "plt.figure(figsize=(12,12))\n",
    "ax = sns.heatmap(X_train[feats].corr(), vmin=-1, vmax=1, center=0,\n",
    "                 cmap=sns.diverging_palette(20, 220, n=200),\n",
    "                 square=True)\n",
    "\n",
    "ax.set_xticklabels(ax.get_xticklabels(), rotation=45, horizontalalignment='right');"
   ]
  },
  {
   "cell_type": "code",
   "execution_count": 288,
   "metadata": {},
   "outputs": [
    {
     "data": {
      "text/html": [
       "<div>\n",
       "<style scoped>\n",
       "    .dataframe tbody tr th:only-of-type {\n",
       "        vertical-align: middle;\n",
       "    }\n",
       "\n",
       "    .dataframe tbody tr th {\n",
       "        vertical-align: top;\n",
       "    }\n",
       "\n",
       "    .dataframe thead th {\n",
       "        text-align: right;\n",
       "    }\n",
       "</style>\n",
       "<table border=\"1\" class=\"dataframe\">\n",
       "  <thead>\n",
       "    <tr style=\"text-align: right;\">\n",
       "      <th></th>\n",
       "      <th>feature_1</th>\n",
       "      <th>feature_2</th>\n",
       "      <th>correlation</th>\n",
       "    </tr>\n",
       "  </thead>\n",
       "  <tbody>\n",
       "    <tr>\n",
       "      <th>57</th>\n",
       "      <td>availability_60</td>\n",
       "      <td>availability_90</td>\n",
       "      <td>0.967552</td>\n",
       "    </tr>\n",
       "    <tr>\n",
       "      <th>58</th>\n",
       "      <td>availability_90</td>\n",
       "      <td>availability_60</td>\n",
       "      <td>0.967552</td>\n",
       "    </tr>\n",
       "    <tr>\n",
       "      <th>59</th>\n",
       "      <td>availability_60</td>\n",
       "      <td>availability_30</td>\n",
       "      <td>0.925830</td>\n",
       "    </tr>\n",
       "    <tr>\n",
       "      <th>60</th>\n",
       "      <td>availability_30</td>\n",
       "      <td>availability_60</td>\n",
       "      <td>0.925830</td>\n",
       "    </tr>\n",
       "    <tr>\n",
       "      <th>61</th>\n",
       "      <td>accommodates</td>\n",
       "      <td>beds</td>\n",
       "      <td>0.859824</td>\n",
       "    </tr>\n",
       "  </tbody>\n",
       "</table>\n",
       "</div>"
      ],
      "text/plain": [
       "          feature_1        feature_2  correlation\n",
       "57  availability_60  availability_90     0.967552\n",
       "58  availability_90  availability_60     0.967552\n",
       "59  availability_60  availability_30     0.925830\n",
       "60  availability_30  availability_60     0.925830\n",
       "61     accommodates             beds     0.859824"
      ]
     },
     "execution_count": 288,
     "metadata": {},
     "output_type": "execute_result"
    }
   ],
   "source": [
    "# calculate correlation between all significant features \n",
    "\n",
    "correlated_features = X_train[feats].corr().abs().unstack().sort_values(ascending=False)\n",
    "correlated_features = correlated_features.reset_index(name='correlation').rename({'level_0': 'feature_1', 'level_1': 'feature_2'}, axis=1)\n",
    "correlated_features = correlated_features[correlated_features['feature_1'] != correlated_features['feature_2']] # remove duplicate pairs\n",
    "correlated_features.sort_values('correlation', ascending=False).head()"
   ]
  },
  {
   "cell_type": "code",
   "execution_count": 289,
   "metadata": {},
   "outputs": [],
   "source": [
    "# keep features that are significant AND are not too highly correlated with eachother\n",
    "\n",
    "feats_final = list()\n",
    "threshold = 0.5\n",
    "# for new_feature in r.sort_values('f-statistic', ascending=False).index:\n",
    "for new_feature in feats:\n",
    "    if (correlated_features.loc[(correlated_features['feature_1'] == new_feature) & (correlated_features['feature_2'].isin(feats_final)), 'correlation'].abs() < threshold).all():\n",
    "        feats_final.append(new_feature)\n",
    "#feats_final"
   ]
  },
  {
   "cell_type": "code",
   "execution_count": 290,
   "metadata": {},
   "outputs": [],
   "source": [
    "features_final = features_final[feats_final] ## Select only features that are not so highly correlated"
   ]
  },
  {
   "cell_type": "code",
   "execution_count": 291,
   "metadata": {},
   "outputs": [
    {
     "name": "stdout",
     "output_type": "stream",
     "text": [
      "Training set has 1747 samples.\n",
      "Testing set has 437 samples.\n"
     ]
    }
   ],
   "source": [
    "# Split the 'features' and 'profit' data into training and testing sets\n",
    "X_train, X_test, y_train, y_test = train_test_split(features_final, \n",
    "                                                    profit_raw, \n",
    "                                                    test_size = 0.2, \n",
    "                                                    random_state = 0)\n",
    "\n",
    "# Show the results of the split\n",
    "print(\"Training set has {} samples.\".format(X_train.shape[0]))\n",
    "print(\"Testing set has {} samples.\".format(X_test.shape[0]))"
   ]
  },
  {
   "cell_type": "code",
   "execution_count": 292,
   "metadata": {},
   "outputs": [
    {
     "name": "stdout",
     "output_type": "stream",
     "text": [
      "0.7315989243073439\n",
      "4682853.225283231\n",
      "391.544\n"
     ]
    }
   ],
   "source": [
    "ForestRegressor = RandomForestRegressor(n_estimators=500)\n",
    "ForestRegressor.fit(X_train, y_train)\n",
    "y_test_preds = ForestRegressor.predict(X_test)\n",
    "print(r2_score(y_test, y_test_preds))\n",
    "print(mean_squared_error(y_test, y_test_preds))\n",
    "print(median_absolute_error(y_test, y_test_preds))"
   ]
  },
  {
   "cell_type": "code",
   "execution_count": 293,
   "metadata": {},
   "outputs": [
    {
     "data": {
      "text/html": [
       "<div>\n",
       "<style scoped>\n",
       "    .dataframe tbody tr th:only-of-type {\n",
       "        vertical-align: middle;\n",
       "    }\n",
       "\n",
       "    .dataframe tbody tr th {\n",
       "        vertical-align: top;\n",
       "    }\n",
       "\n",
       "    .dataframe thead th {\n",
       "        text-align: right;\n",
       "    }\n",
       "</style>\n",
       "<table border=\"1\" class=\"dataframe\">\n",
       "  <thead>\n",
       "    <tr style=\"text-align: right;\">\n",
       "      <th></th>\n",
       "      <th>est_int</th>\n",
       "      <th>coefs</th>\n",
       "    </tr>\n",
       "  </thead>\n",
       "  <tbody>\n",
       "    <tr>\n",
       "      <th>7</th>\n",
       "      <td>availability_30</td>\n",
       "      <td>0.441233</td>\n",
       "    </tr>\n",
       "    <tr>\n",
       "      <th>5</th>\n",
       "      <td>accommodates</td>\n",
       "      <td>0.234171</td>\n",
       "    </tr>\n",
       "    <tr>\n",
       "      <th>8</th>\n",
       "      <td>availability_365</td>\n",
       "      <td>0.091360</td>\n",
       "    </tr>\n",
       "    <tr>\n",
       "      <th>9</th>\n",
       "      <td>number_of_reviews</td>\n",
       "      <td>0.053750</td>\n",
       "    </tr>\n",
       "    <tr>\n",
       "      <th>3</th>\n",
       "      <td>host_identity_verified</td>\n",
       "      <td>0.034735</td>\n",
       "    </tr>\n",
       "  </tbody>\n",
       "</table>\n",
       "</div>"
      ],
      "text/plain": [
       "                  est_int     coefs\n",
       "7         availability_30  0.441233\n",
       "5            accommodates  0.234171\n",
       "8        availability_365  0.091360\n",
       "9       number_of_reviews  0.053750\n",
       "3  host_identity_verified  0.034735"
      ]
     },
     "execution_count": 293,
     "metadata": {},
     "output_type": "execute_result"
    }
   ],
   "source": [
    "coefs_df = pd.DataFrame()\n",
    "\n",
    "coefs_df['est_int'] = X_train.columns\n",
    "coefs_df['coefs'] = ForestRegressor.feature_importances_\n",
    "coefs_df.sort_values('coefs', ascending=False).head(5)"
   ]
  },
  {
   "cell_type": "code",
   "execution_count": 294,
   "metadata": {},
   "outputs": [],
   "source": [
    "coefs_df.index = coefs_df.est_int"
   ]
  },
  {
   "cell_type": "code",
   "execution_count": 305,
   "metadata": {},
   "outputs": [
    {
     "data": {
      "text/plain": [
       "(47, 2)"
      ]
     },
     "execution_count": 305,
     "metadata": {},
     "output_type": "execute_result"
    }
   ],
   "source": [
    "coefs_df.shape"
   ]
  },
  {
   "cell_type": "code",
   "execution_count": 295,
   "metadata": {},
   "outputs": [
    {
     "data": {
      "image/png": "[encoded data removed]",
      "text/plain": [
       "<Figure size 1440x720 with 1 Axes>"
      ]
     },
     "metadata": {
      "needs_background": "light"
     },
     "output_type": "display_data"
    }
   ],
   "source": [
    "coefs_df.sort_values('coefs', ascending=False).head(30).plot(kind = 'barh',figsize = (20,10));"
   ]
  },
  {
   "cell_type": "markdown",
   "metadata": {},
   "source": [
    "### Evaluating Results: <a name=\"evaluating_results\"></a>\n",
    "Once I eliminated the variables which were too highly correlated, I was still left with 47 unique variables that could have possibly contributed to the value of profit to be made in the next 60 days. It is unsurprising that the largest factor in affecting profit to be made in the next 60 days is the number of bookings/availability in the next 30. The second most contributing factor is the number of people that the listing is able to accomodate. This is interesting and is likely because it has an effect on number of bedrooms, therefore listing size and therefore profit. I would have anticipated that the neighborhoods would have had more of an affect than it seems they do."
   ]
  },
  {
   "cell_type": "markdown",
   "metadata": {},
   "source": [
    "## Next Steps<a name=\"next_steps\"></a>\n",
    " Next it would be interesting to dive further into modeling and try out different types of models. Perhaps I could even build a model attempting to predict price."
   ]
  }
 ],
 "metadata": {
  "kernelspec": {
   "display_name": "Python 3",
   "language": "python",
   "name": "python3"
  },
  "language_info": {
   "codemirror_mode": {
    "name": "ipython",
    "version": 3
   },
   "file_extension": ".py",
   "mimetype": "text/x-python",
   "name": "python",
   "nbconvert_exporter": "python",
   "pygments_lexer": "ipython3",
   "version": "3.7.3"
  }
 },
 "nbformat": 4,
 "nbformat_minor": 2
}
